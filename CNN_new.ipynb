{
  "cells": [
    {
      "cell_type": "markdown",
      "metadata": {
        "id": "view-in-github",
        "colab_type": "text"
      },
      "source": [
        "<a href=\"https://colab.research.google.com/github/kky5738/bp-dleam/blob/main/CNN_new.ipynb\" target=\"_parent\"><img src=\"https://colab.research.google.com/assets/colab-badge.svg\" alt=\"Open In Colab\"/></a>"
      ]
    },
    {
      "cell_type": "markdown",
      "source": [
        "## Install, Import, define"
      ],
      "metadata": {
        "id": "FwyTDr1IPNl1"
      }
    },
    {
      "cell_type": "code",
      "execution_count": 1,
      "metadata": {
        "colab": {
          "base_uri": "https://localhost:8080/"
        },
        "id": "Mi9A_GdH88Pm",
        "outputId": "ac6fd04c-7257-436d-cfce-4c9220674760"
      },
      "outputs": [
        {
          "output_type": "stream",
          "name": "stdout",
          "text": [
            "Looking in indexes: https://pypi.org/simple, https://us-python.pkg.dev/colab-wheels/public/simple/\n",
            "Collecting captum\n",
            "  Downloading captum-0.5.0-py3-none-any.whl (1.4 MB)\n",
            "\u001b[K     |████████████████████████████████| 1.4 MB 4.1 MB/s \n",
            "\u001b[?25hRequirement already satisfied: torch>=1.6 in /usr/local/lib/python3.7/dist-packages (from captum) (1.12.1+cu113)\n",
            "Requirement already satisfied: matplotlib in /usr/local/lib/python3.7/dist-packages (from captum) (3.2.2)\n",
            "Requirement already satisfied: numpy in /usr/local/lib/python3.7/dist-packages (from captum) (1.21.6)\n",
            "Requirement already satisfied: typing-extensions in /usr/local/lib/python3.7/dist-packages (from torch>=1.6->captum) (4.1.1)\n",
            "Requirement already satisfied: pyparsing!=2.0.4,!=2.1.2,!=2.1.6,>=2.0.1 in /usr/local/lib/python3.7/dist-packages (from matplotlib->captum) (3.0.9)\n",
            "Requirement already satisfied: cycler>=0.10 in /usr/local/lib/python3.7/dist-packages (from matplotlib->captum) (0.11.0)\n",
            "Requirement already satisfied: kiwisolver>=1.0.1 in /usr/local/lib/python3.7/dist-packages (from matplotlib->captum) (1.4.4)\n",
            "Requirement already satisfied: python-dateutil>=2.1 in /usr/local/lib/python3.7/dist-packages (from matplotlib->captum) (2.8.2)\n",
            "Requirement already satisfied: six>=1.5 in /usr/local/lib/python3.7/dist-packages (from python-dateutil>=2.1->matplotlib->captum) (1.15.0)\n",
            "Installing collected packages: captum\n",
            "Successfully installed captum-0.5.0\n"
          ]
        }
      ],
      "source": [
        "!pip install captum"
      ]
    },
    {
      "cell_type": "code",
      "execution_count": 2,
      "metadata": {
        "id": "pY-DP5DRJnJF"
      },
      "outputs": [],
      "source": [
        "import random\n",
        "import pandas as pd\n",
        "import numpy as np\n",
        "import os\n",
        "\n",
        "from sklearn.model_selection import train_test_split\n",
        "from sklearn.model_selection import StratifiedKFold\n",
        "\n",
        "import torch\n",
        "import torch.nn as nn\n",
        "import torch.optim as optim\n",
        "import torch.nn.functional as F\n",
        "from torch.utils.data import Dataset, DataLoader\n",
        "\n",
        "from sklearn.metrics import f1_score, accuracy_score\n",
        "from sklearn.metrics import classification_report\n",
        "from sklearn.metrics import confusion_matrix, ConfusionMatrixDisplay\n",
        "\n",
        "import seaborn as sn\n",
        "\n",
        "from captum.attr import (\n",
        "    GradientShap,\n",
        "    DeepLift,\n",
        "    DeepLiftShap,\n",
        "    IntegratedGradients,\n",
        "    LayerConductance,\n",
        "    NeuronConductance,\n",
        "    NoiseTunnel,\n",
        ")\n",
        "\n",
        "import matplotlib.pyplot as plt\n",
        "import warnings"
      ]
    },
    {
      "cell_type": "code",
      "execution_count": 3,
      "metadata": {
        "id": "LSJnIaQp2wnH"
      },
      "outputs": [],
      "source": [
        "warnings.filterwarnings('ignore')\n",
        "device = torch.device('cuda') if torch.cuda.is_available() else torch.device('cpu')"
      ]
    },
    {
      "cell_type": "code",
      "execution_count": 4,
      "metadata": {
        "id": "VvkA001tRoiG"
      },
      "outputs": [],
      "source": [
        "def seed_everything(seed):\n",
        "    random.seed(seed)\n",
        "    os.environ['PYTHONHASHSEED'] = str(seed)\n",
        "    np.random.seed(seed)\n",
        "    torch.manual_seed(seed)\n",
        "    torch.cuda.manual_seed(seed)\n",
        "    torch.backends.cudnn.deterministic = True\n",
        "    torch.backends.cudnn.benchmark = True\n",
        "\n",
        "def make_set_featureSelection(input_data:list) -> pd.DataFrame:\n",
        "    data_set = pd.DataFrame()\n",
        "    input_data.reverse()\n",
        "    col_list = []\n",
        "    for idx, data in enumerate(input_data):\n",
        "        # dataframe = data.iloc[:, 1:22]\n",
        "        # dataframe = data.loc[:, ['금융부채비율_w', '금융부채비율2_w', '총자산이익잉여금비율_w', '자기자본순이익률_w', '시장자산영업이익률_w', '총자산영업이익률_w', '총자산증가율_w']]\n",
        "        dataframe = data.drop([''])\n",
        "        data_set = pd.concat([data_set, dataframe], axis=1)\n",
        "        \n",
        "        for col in dataframe.columns:\n",
        "            col_list.append(col + f'_{idx+1}')\n",
        "        \n",
        "        print('make',data_set.shape)\n",
        "    print(col_list)\n",
        "    data_set.columns = col_list\n",
        "    data_set = data_set.fillna(0) # 결측치는 0으로 채우기\n",
        "\n",
        "    return data_set\n",
        "\n",
        "def make_set1(input_data:list) -> pd.DataFrame:\n",
        "    data_set = pd.DataFrame()\n",
        "    input_data.reverse()\n",
        "    col_list = []\n",
        "\n",
        "    for idx, data in enumerate(input_data):\n",
        "        dataframe = data.iloc[:, 1:21]\n",
        "        data_set = pd.concat([data_set, dataframe], axis=1)\n",
        "\n",
        "        for col in dataframe.columns:\n",
        "            col_list.append(col + f'_{idx+1}')\n",
        "        print('make',data_set.shape)\n",
        "    print(col_list)\n",
        "    data_set.columns = col_list\n",
        "    data_set = data_set.fillna(0) # 결측치는 0으로 채우기\n",
        "\n",
        "    return data_set\n",
        "\n",
        "def make_set2(years:list) -> pd.DataFrame:\n",
        "    input = pd.DataFrame()\n",
        "    years.reverse()\n",
        "\n",
        "    for year in years:\n",
        "        input = pd.concat([input, year.iloc[:, 1:25]], axis=1)\n",
        "        print('make',input.shape)\n",
        "\n",
        "    input = input.fillna(0) # 결측치는 0으로 채우기\n",
        "\n",
        "    return input\n",
        "\n",
        "def make_set3(years:list) -> pd.DataFrame:\n",
        "    input = pd.DataFrame()\n",
        "    years.reverse()\n",
        "\n",
        "    for year in years:\n",
        "        input = pd.concat([input, year.iloc[:, 1:]], axis=1)\n",
        "        print('make',input.shape)\n",
        "    input = input.fillna(0) # 결측치는 0으로 채우기\n",
        "\n",
        "    return input\n",
        "\n",
        "def load_data(path:str, years:int, norm:bool = False):\n",
        "    data = [0] * years\n",
        "    if norm:\n",
        "        for i in range(years): data[i] = pd.read_csv(path + f'/data_year{i+1}_macro_norm.csv', encoding='cp949')\n",
        "    for i in range(years): data[i] = pd.read_csv(path + f'/data_year{i+1}_non_norm.csv', encoding='cp949')\n",
        "\n",
        "    target = pd.read_csv(path + '/target.csv')\n",
        "    target = pd.DataFrame(target, columns=['부도여부'])\n",
        "    \n",
        "    return data, target\n",
        "\n",
        "def reset_weights(m:nn.Module):\n",
        "    for layer in m.children():\n",
        "        if hasattr(layer, 'reset_parameters'):\n",
        "            print(f'Reset trainable parameters of layer = {layer}')\n",
        "            layer.reset_parameters()"
      ]
    },
    {
      "cell_type": "markdown",
      "source": [
        "# 새 섹션"
      ],
      "metadata": {
        "id": "_5DzfQJp6EVZ"
      }
    },
    {
      "cell_type": "code",
      "execution_count": 8,
      "metadata": {
        "id": "V9OufZon1V1u"
      },
      "outputs": [],
      "source": [
        "# Dataset \n",
        "class CustomDataset(Dataset):\n",
        "    def __init__(self, data, labels, transform=None, target_transform=None):\n",
        "        self.data = data\n",
        "        self.labels = labels\n",
        "        self.transform = transform\n",
        "        self.target_transform = target_transform\n",
        "\n",
        "    def __len__(self):\n",
        "        return len(self.labels)\n",
        "\n",
        "    def __getitem__(self, idx):\n",
        "        label = self.labels.iloc[idx]\n",
        "        label = torch.LongTensor(label)\n",
        "\n",
        "        data = self.data.iloc[idx]\n",
        "        data = torch.FloatTensor(data)\n",
        "        data = data.view(1, data.shape[0])\n",
        "        \n",
        "        if self.transform:\n",
        "            data = self.transform(data)\n",
        "        if self.target_transform:\n",
        "            label = self.target_transform(label, num_classes=2)\n",
        "            label = label.view(2,)\n",
        "        return data, label"
      ]
    },
    {
      "cell_type": "code",
      "execution_count": 9,
      "metadata": {
        "id": "fpv7_GOV1X42"
      },
      "outputs": [],
      "source": [
        "# CNN architecture\n",
        "class CustomModel(nn.Module):\n",
        "    def __init__(self, input_size:int, years:int, num_classes=2):\n",
        "        super(CustomModel, self).__init__()\n",
        "\n",
        "        self.conv = nn.Sequential(\n",
        "            nn.Conv1d(1, 16, kernel_size=1),\n",
        "            nn.BatchNorm1d(16),\n",
        "            nn.ReLU(),\n",
        "            nn.Dropout(p=0.5),\n",
        "            nn.MaxPool1d(kernel_size=1),\n",
        "            \n",
        "            # nn.Conv1d(8, 16, kernel_size=3, padding=1),\n",
        "            # nn.BatchNorm1d(16),\n",
        "            # nn.ReLU(),\n",
        "            # nn.Dropout(p=0.5),\n",
        "            # nn.MaxPool1d(kernel_size=1),\n",
        "        )\n",
        "        self.fcn = nn.Sequential(\n",
        "            nn.Linear(input_size*16, 64),\n",
        "            nn.BatchNorm1d(64),\n",
        "            nn.ReLU(),\n",
        "            nn.Dropout(p=0.5),\n",
        "            nn.Linear(64, num_classes),\n",
        "        )\n",
        "    \n",
        "    def forward(self, input):\n",
        "        input_feature = self.conv(input)\n",
        "        input_feature = torch.flatten(input_feature, 1)\n",
        "        output = self.fcn(input_feature)\n",
        "        return output\n",
        "\n",
        "class BestCNN(nn.Module):\n",
        "    def __init__(self, input_size:int, num_classes=2):\n",
        "        super(BestCNN, self).__init__()\n",
        "\n",
        "        self.conv = nn.Sequential(\n",
        "            nn.Conv1d(1, 16, kernel_size=1),\n",
        "            nn.BatchNorm1d(16),\n",
        "            nn.ReLU(),\n",
        "            nn.Dropout(p=0.5),\n",
        "            nn.MaxPool1d(kernel_size=1),\n",
        "\n",
        "            nn.Conv1d(16, 32, kernel_size=1),\n",
        "            nn.BatchNorm1d(32),\n",
        "            nn.ReLU(),\n",
        "            nn.Dropout(),\n",
        "            nn.MaxPool1d(kernel_size=1),\n",
        "        )\n",
        "        self.fully_connected = nn.Sequential(\n",
        "            nn.Linear(input_size*32, 128),\n",
        "            nn.BatchNorm1d(128),\n",
        "            nn.ReLU(),\n",
        "            nn.Dropout(),\n",
        "\n",
        "            nn.Linear(128, num_classes)\n",
        "        )\n",
        "    \n",
        "    def forward(self, input):\n",
        "        feature = self.conv(input)\n",
        "        feature = torch.flatten(feature, 1)\n",
        "        output = self.fully_connected(feature)\n",
        "\n",
        "        return output"
      ]
    },
    {
      "cell_type": "code",
      "execution_count": 10,
      "metadata": {
        "id": "Y01kfxvj1bpN"
      },
      "outputs": [],
      "source": [
        "def train_with_fold(model:nn.Module, optimizer, train_loader, scheduler, device):\n",
        "    model.to(device)\n",
        "\n",
        "    # criterion = nn.BCELoss().to(device)\n",
        "    weights = torch.FloatTensor([0.2, 0.8])\n",
        "    criterion = nn.CrossEntropyLoss(weight=weights).to(device)\n",
        "    current_loss = 0.0\n",
        "    best_model = None\n",
        "\n",
        "    for epoch in range(1,CFG[\"EPOCHS\"]+1):\n",
        "        model.train() # 학습시킴.\n",
        "        train_loss = []\n",
        "        for input, label in iter(train_loader): # train_loader에서 img, text, label 가져옴\n",
        "            input = input.float().to(device)\n",
        "            label = label.float().to(device)\n",
        "            \n",
        "            optimizer.zero_grad() # 이전 루프에서 .grad에 저장된 값이 다음 루프의 업데이트에도 간섭하는 걸 방지, 0으로 초기화\n",
        "\n",
        "            model_pred = model(input) # 예측\n",
        "\n",
        "            loss = criterion(model_pred, label) # 예측값과 실제값과의 손실 계산\n",
        "            loss.requires_grad_(True)\n",
        "            loss.backward() # .backward() 를 호출하면 역전파가 시작\n",
        "            optimizer.step() # optimizer.step()을 호출하여 역전파 단계에서 수집된 변화도로 매개변수를 조정\n",
        "\n",
        "            train_loss.append(loss.item())\n",
        "            current_loss += loss.item()\n",
        "            # if len(train_loss) % 320 == 0:\n",
        "            #     print('Loss after mini-batch %5d: %.3f' % (len(train_loss), current_loss / 320))\n",
        "            #     current_loss = 0.0\n",
        "            \n",
        "        # 모든 train_loss 가져옴\n",
        "        tr_loss = np.mean(train_loss)\n",
        "        \n",
        "        print(f'Epoch [{epoch}], Train Loss : [{tr_loss:.5f}]')\n",
        "        \n",
        "        if scheduler is not None:\n",
        "            scheduler.step()\n",
        "            # scheduler의 의미: Learning Rate Scheduler => learning rate를 조절한다. \n",
        "            # DACON에서는 CosineAnnealingLR 또는 CosineAnnealingWarmRestarts 를 주로 사용한다.\n",
        "    \n",
        "    return model # val_score가 가장 높은 모델을 출력"
      ]
    },
    {
      "cell_type": "code",
      "execution_count": 76,
      "metadata": {
        "id": "f93bB-3B1dxp"
      },
      "outputs": [],
      "source": [
        "def score_function(real, pred):\n",
        "    return f1_score(real, pred, average=\"weighted\")\n",
        "def accuracy_function(real, pred):\n",
        "    return accuracy_score(real, pred)\n",
        "    \n",
        "def inference(model, test_loader, deivce):\n",
        "    model.to(device)\n",
        "    model.eval()\n",
        "    \n",
        "    ig = IntegratedGradients(model)\n",
        "\n",
        "    model_preds = []\n",
        "    true_labels = []\n",
        "    total_attr = []\n",
        "\n",
        "    with torch.no_grad():\n",
        "        for input, target in iter(test_loader):\n",
        "            input.requires_grad_()\n",
        "            input = input.float().to(device)\n",
        "            target = target.to(device)\n",
        "\n",
        "            model_pred = model(input)\n",
        "\n",
        "            attr, delta = ig.attribute(input, target=1, return_convergence_delta=True)\n",
        "            total_attr += attr.detach().cpu().squeeze().numpy().tolist()\n",
        "            model_preds += model_pred.argmax(1).detach().numpy().tolist()\n",
        "            true_labels += target.argmax(1).detach().cpu().numpy().tolist()\n",
        "            \n",
        "    test_weighted_f1 = score_function(true_labels, model_preds) # 실제 라벨값들과 예측한 라벨값들에 대해 f1 점수 계산\n",
        "    test_acc = accuracy_function(true_labels, model_preds)\n",
        "    cm = confusion_matrix(true_labels, model_preds) # get confusion-matrix\n",
        "\n",
        "    # input data에 따른 예측값들을 model_preds 배열에 넣어 리턴\n",
        "    return model_preds, test_weighted_f1, test_acc, total_attr, cm\n",
        "\n",
        "# new\n",
        "def visualize_importances(feature_names, importances, fold, title=\"Average Feature Importances\", plot=True, axis_title=\"features\", sort:bool=False):\n",
        "    print(title)\n",
        "    print(importances.shape)\n",
        "    \n",
        "    # 이 부분 멀티 프로세싱으로도 구현 가능할듯?\n",
        "    feature_importance = [0] * len(feature_names)\n",
        "    for i in range(len(feature_names)):\n",
        "        feature_importance[i] = (feature_names[i], importances[i])\n",
        "        print(i, feature_names[i], f\": {importances[i]:.3f}\")\n",
        "        \n",
        "\n",
        "    if sort:\n",
        "        sorted_feature = sorted(dict(feature_importance).items(), key=lambda item: item[1], reverse=True)\n",
        "\n",
        "        for name, value in sorted_feature:\n",
        "            print(f'{name}: {value:.3f}')\n",
        "\n",
        "    x_pos = (np.arange(len(feature_names)))\n",
        "    names = [i for i in range(len(feature_names))]\n",
        "    if plot:\n",
        "        title += f' of Fold {fold}'\n",
        "        plt.figure(figsize=(12,6))\n",
        "        plt.bar(x_pos, importances, align='center')\n",
        "        plt.xticks(x_pos, names, wrap=True)\n",
        "        plt.xlabel(axis_title)\n",
        "        plt.title(title) "
      ]
    },
    {
      "cell_type": "markdown",
      "source": [
        "## Once"
      ],
      "metadata": {
        "id": "Gx-lyNM4PMOf"
      }
    },
    {
      "cell_type": "code",
      "source": [
        "# Hyperparameter setting\n",
        "CFG = {\n",
        "    'EPOCHS':20,\n",
        "    'LEARNING_RATE':5e-3,\n",
        "    'BATCH_SIZE':64,\n",
        "    'SEED':41,\n",
        "    'YEARS': 1\n",
        "}\n",
        "\n",
        "seed_everything(CFG['SEED']) # Seed 고정\n",
        "PATH = '/content/drive/MyDrive/bankrupt prediction/data/train'"
      ],
      "metadata": {
        "id": "Bbf5XJU9PXi7"
      },
      "execution_count": 180,
      "outputs": []
    },
    {
      "cell_type": "markdown",
      "metadata": {
        "id": "XI6NTQnPv0e9"
      },
      "source": [
        "## Set 1"
      ]
    },
    {
      "cell_type": "code",
      "execution_count": 66,
      "metadata": {
        "colab": {
          "base_uri": "https://localhost:8080/"
        },
        "id": "1P1NUEYCEYlZ",
        "outputId": "f5ff6e50-e312-4e22-e04b-5c08fe03c2d4"
      },
      "outputs": [
        {
          "output_type": "stream",
          "name": "stdout",
          "text": [
            "make (2519, 20)\n",
            "['부채비율_w_1', '시장부채비율_w_1', '금융부채비율_w_1', '금융부채비율2_w_1', '유동비율_w_1', '고정자산비율_w_1', '총자산영업이익률_w_1', '시장자산영업이익률_w_1', '자기자본순이익률_w_1', '총자산이익잉여금비율_w_1', '총자산증가율_w_1', '매출액증가율_w_1', '당기순이익증가율_w_1', '현금자산비율_w_1', '시장현금자산비율_w_1', '자산대비뎡업현금흐름_w_1', '자산회전율_w_1', '매출채권회전율_w_1', '총매출액유모_w_1', '총자산규모_w_1']\n",
            "(2519, 20)\n"
          ]
        }
      ],
      "source": [
        "# Hyperparameter setting\n",
        "CFG = {\n",
        "    'EPOCHS':20,\n",
        "    'LEARNING_RATE':5e-3,\n",
        "    'BATCH_SIZE':64,\n",
        "    'SEED':41,\n",
        "    'YEARS': 1\n",
        "}\n",
        "\n",
        "seed_everything(CFG['SEED']) # Seed 고정\n",
        "PATH = '/content/drive/MyDrive/bankrupt prediction/data/train'\n",
        "\n",
        "data, input_y = load_data(PATH, CFG['YEARS'], norm=True)\n",
        "input_X = make_set1(data)\n",
        "print(input_X.shape)\n",
        "\n",
        "k_folds = 5\n",
        "\n",
        "# For fold results\n",
        "results = {}\n",
        "\n",
        "kfold_st = StratifiedKFold(n_splits=k_folds, shuffle=True, random_state=CFG['SEED'])\n",
        "\n",
        "fold_dataset = CustomDataset(input_X, input_y, target_transform=torch.nn.functional.one_hot)\n",
        "feature_names = input_X.columns"
      ]
    },
    {
      "cell_type": "code",
      "execution_count": 181,
      "metadata": {
        "colab": {
          "base_uri": "https://localhost:8080/",
          "height": 1000
        },
        "id": "JuhM6dIm1qrt",
        "outputId": "5aab9cde-875c-404f-dd94-f581b92fb632"
      },
      "outputs": [
        {
          "output_type": "stream",
          "name": "stdout",
          "text": [
            "----------------------------------------------------\n",
            "FOLD 1\n",
            "Reset trainable parameters of layer = Conv1d(1, 16, kernel_size=(1,), stride=(1,))\n",
            "Reset trainable parameters of layer = BatchNorm1d(16, eps=1e-05, momentum=0.1, affine=True, track_running_stats=True)\n",
            "Reset trainable parameters of layer = Linear(in_features=320, out_features=64, bias=True)\n",
            "Reset trainable parameters of layer = BatchNorm1d(64, eps=1e-05, momentum=0.1, affine=True, track_running_stats=True)\n",
            "Reset trainable parameters of layer = Linear(in_features=64, out_features=2, bias=True)\n",
            "Epoch [1], Train Loss : [0.17668]\n",
            "Epoch [2], Train Loss : [0.14039]\n",
            "Epoch [3], Train Loss : [0.14185]\n",
            "Epoch [4], Train Loss : [0.12255]\n",
            "Epoch [5], Train Loss : [0.12735]\n",
            "Epoch [6], Train Loss : [0.11868]\n",
            "Epoch [7], Train Loss : [0.11141]\n",
            "Epoch [8], Train Loss : [0.11279]\n",
            "Epoch [9], Train Loss : [0.10969]\n",
            "Epoch [10], Train Loss : [0.10195]\n",
            "Epoch [11], Train Loss : [0.10448]\n",
            "Epoch [12], Train Loss : [0.10352]\n",
            "Epoch [13], Train Loss : [0.09889]\n",
            "Epoch [14], Train Loss : [0.09388]\n",
            "Epoch [15], Train Loss : [0.09642]\n",
            "Epoch [16], Train Loss : [0.09369]\n",
            "Epoch [17], Train Loss : [0.09878]\n",
            "Epoch [18], Train Loss : [0.09897]\n",
            "Epoch [19], Train Loss : [0.09088]\n",
            "Epoch [20], Train Loss : [0.09777]\n",
            "Average Feature Importances\n",
            "(20,)\n",
            "0 부채비율_w_1 : 0.202\n",
            "1 시장부채비율_w_1 : 0.223\n",
            "2 금융부채비율_w_1 : -0.008\n",
            "3 금융부채비율2_w_1 : -0.030\n",
            "4 유동비율_w_1 : -0.335\n",
            "5 고정자산비율_w_1 : -0.004\n",
            "6 총자산영업이익률_w_1 : 0.002\n",
            "7 시장자산영업이익률_w_1 : 0.022\n",
            "8 자기자본순이익률_w_1 : 0.137\n",
            "9 총자산이익잉여금비율_w_1 : 0.023\n",
            "10 총자산증가율_w_1 : 0.012\n",
            "11 매출액증가율_w_1 : 0.013\n",
            "12 당기순이익증가율_w_1 : 0.022\n",
            "13 현금자산비율_w_1 : -0.036\n",
            "14 시장현금자산비율_w_1 : -0.003\n",
            "15 자산대비뎡업현금흐름_w_1 : 0.001\n",
            "16 자산회전율_w_1 : -0.043\n",
            "17 매출채권회전율_w_1 : -0.469\n",
            "18 총매출액유모_w_1 : -0.050\n",
            "19 총자산규모_w_1 : -0.061\n",
            "Fold: [1]  F1 Score: 0.909079  Accuracy: 0.904762\n",
            "----------------------------------------------------\n",
            "FOLD 2\n",
            "Reset trainable parameters of layer = Conv1d(1, 16, kernel_size=(1,), stride=(1,))\n",
            "Reset trainable parameters of layer = BatchNorm1d(16, eps=1e-05, momentum=0.1, affine=True, track_running_stats=True)\n",
            "Reset trainable parameters of layer = Linear(in_features=320, out_features=64, bias=True)\n",
            "Reset trainable parameters of layer = BatchNorm1d(64, eps=1e-05, momentum=0.1, affine=True, track_running_stats=True)\n",
            "Reset trainable parameters of layer = Linear(in_features=64, out_features=2, bias=True)\n",
            "Epoch [1], Train Loss : [0.18044]\n",
            "Epoch [2], Train Loss : [0.14765]\n",
            "Epoch [3], Train Loss : [0.13563]\n",
            "Epoch [4], Train Loss : [0.13477]\n",
            "Epoch [5], Train Loss : [0.12686]\n",
            "Epoch [6], Train Loss : [0.12814]\n",
            "Epoch [7], Train Loss : [0.12446]\n",
            "Epoch [8], Train Loss : [0.11239]\n",
            "Epoch [9], Train Loss : [0.10713]\n",
            "Epoch [10], Train Loss : [0.10529]\n",
            "Epoch [11], Train Loss : [0.10399]\n",
            "Epoch [12], Train Loss : [0.09685]\n",
            "Epoch [13], Train Loss : [0.09530]\n",
            "Epoch [14], Train Loss : [0.10581]\n",
            "Epoch [15], Train Loss : [0.10077]\n",
            "Epoch [16], Train Loss : [0.10047]\n",
            "Epoch [17], Train Loss : [0.10285]\n",
            "Epoch [18], Train Loss : [0.09827]\n",
            "Epoch [19], Train Loss : [0.09870]\n",
            "Epoch [20], Train Loss : [0.08885]\n",
            "Average Feature Importances\n",
            "(20,)\n",
            "0 부채비율_w_1 : 0.214\n",
            "1 시장부채비율_w_1 : 0.265\n",
            "2 금융부채비율_w_1 : -0.005\n",
            "3 금융부채비율2_w_1 : -0.028\n",
            "4 유동비율_w_1 : -0.359\n",
            "5 고정자산비율_w_1 : -0.005\n",
            "6 총자산영업이익률_w_1 : -0.002\n",
            "7 시장자산영업이익률_w_1 : 0.018\n",
            "8 자기자본순이익률_w_1 : 0.124\n",
            "9 총자산이익잉여금비율_w_1 : 0.031\n",
            "10 총자산증가율_w_1 : -0.003\n",
            "11 매출액증가율_w_1 : -0.004\n",
            "12 당기순이익증가율_w_1 : -0.003\n",
            "13 현금자산비율_w_1 : -0.031\n",
            "14 시장현금자산비율_w_1 : -0.003\n",
            "15 자산대비뎡업현금흐름_w_1 : -0.002\n",
            "16 자산회전율_w_1 : -0.070\n",
            "17 매출채권회전율_w_1 : -0.583\n",
            "18 총매출액유모_w_1 : -0.016\n",
            "19 총자산규모_w_1 : -0.155\n",
            "Fold: [2]  F1 Score: 0.868215  Accuracy: 0.857143\n",
            "----------------------------------------------------\n",
            "FOLD 3\n",
            "Reset trainable parameters of layer = Conv1d(1, 16, kernel_size=(1,), stride=(1,))\n",
            "Reset trainable parameters of layer = BatchNorm1d(16, eps=1e-05, momentum=0.1, affine=True, track_running_stats=True)\n",
            "Reset trainable parameters of layer = Linear(in_features=320, out_features=64, bias=True)\n",
            "Reset trainable parameters of layer = BatchNorm1d(64, eps=1e-05, momentum=0.1, affine=True, track_running_stats=True)\n",
            "Reset trainable parameters of layer = Linear(in_features=64, out_features=2, bias=True)\n",
            "Epoch [1], Train Loss : [0.18107]\n",
            "Epoch [2], Train Loss : [0.15509]\n",
            "Epoch [3], Train Loss : [0.14522]\n",
            "Epoch [4], Train Loss : [0.13157]\n",
            "Epoch [5], Train Loss : [0.12096]\n",
            "Epoch [6], Train Loss : [0.12600]\n",
            "Epoch [7], Train Loss : [0.11877]\n",
            "Epoch [8], Train Loss : [0.11493]\n",
            "Epoch [9], Train Loss : [0.11323]\n",
            "Epoch [10], Train Loss : [0.10362]\n",
            "Epoch [11], Train Loss : [0.10611]\n",
            "Epoch [12], Train Loss : [0.10055]\n",
            "Epoch [13], Train Loss : [0.10465]\n",
            "Epoch [14], Train Loss : [0.10006]\n",
            "Epoch [15], Train Loss : [0.09475]\n",
            "Epoch [16], Train Loss : [0.10227]\n",
            "Epoch [17], Train Loss : [0.09975]\n",
            "Epoch [18], Train Loss : [0.09637]\n",
            "Epoch [19], Train Loss : [0.09677]\n",
            "Epoch [20], Train Loss : [0.08890]\n",
            "Average Feature Importances\n",
            "(20,)\n",
            "0 부채비율_w_1 : 0.307\n",
            "1 시장부채비율_w_1 : 0.357\n",
            "2 금융부채비율_w_1 : -0.014\n",
            "3 금융부채비율2_w_1 : -0.063\n",
            "4 유동비율_w_1 : -0.327\n",
            "5 고정자산비율_w_1 : 0.006\n",
            "6 총자산영업이익률_w_1 : -0.009\n",
            "7 시장자산영업이익률_w_1 : 0.015\n",
            "8 자기자본순이익률_w_1 : 0.195\n",
            "9 총자산이익잉여금비율_w_1 : 0.031\n",
            "10 총자산증가율_w_1 : -0.022\n",
            "11 매출액증가율_w_1 : -0.010\n",
            "12 당기순이익증가율_w_1 : 0.013\n",
            "13 현금자산비율_w_1 : -0.042\n",
            "14 시장현금자산비율_w_1 : 0.007\n",
            "15 자산대비뎡업현금흐름_w_1 : -0.010\n",
            "16 자산회전율_w_1 : -0.152\n",
            "17 매출채권회전율_w_1 : -0.744\n",
            "18 총매출액유모_w_1 : 0.109\n",
            "19 총자산규모_w_1 : -0.037\n",
            "Fold: [3]  F1 Score: 0.895740  Accuracy: 0.888889\n",
            "----------------------------------------------------\n",
            "FOLD 4\n",
            "Reset trainable parameters of layer = Conv1d(1, 16, kernel_size=(1,), stride=(1,))\n",
            "Reset trainable parameters of layer = BatchNorm1d(16, eps=1e-05, momentum=0.1, affine=True, track_running_stats=True)\n",
            "Reset trainable parameters of layer = Linear(in_features=320, out_features=64, bias=True)\n",
            "Reset trainable parameters of layer = BatchNorm1d(64, eps=1e-05, momentum=0.1, affine=True, track_running_stats=True)\n",
            "Reset trainable parameters of layer = Linear(in_features=64, out_features=2, bias=True)\n",
            "Epoch [1], Train Loss : [0.16738]\n",
            "Epoch [2], Train Loss : [0.13826]\n",
            "Epoch [3], Train Loss : [0.13472]\n",
            "Epoch [4], Train Loss : [0.13811]\n",
            "Epoch [5], Train Loss : [0.13150]\n",
            "Epoch [6], Train Loss : [0.11779]\n",
            "Epoch [7], Train Loss : [0.13005]\n",
            "Epoch [8], Train Loss : [0.12032]\n",
            "Epoch [9], Train Loss : [0.11227]\n",
            "Epoch [10], Train Loss : [0.11161]\n",
            "Epoch [11], Train Loss : [0.09607]\n",
            "Epoch [12], Train Loss : [0.09606]\n",
            "Epoch [13], Train Loss : [0.09914]\n",
            "Epoch [14], Train Loss : [0.09631]\n",
            "Epoch [15], Train Loss : [0.10013]\n",
            "Epoch [16], Train Loss : [0.09554]\n",
            "Epoch [17], Train Loss : [0.09811]\n",
            "Epoch [18], Train Loss : [0.10158]\n",
            "Epoch [19], Train Loss : [0.09103]\n",
            "Epoch [20], Train Loss : [0.08949]\n",
            "Average Feature Importances\n",
            "(20,)\n",
            "0 부채비율_w_1 : 0.352\n",
            "1 시장부채비율_w_1 : 0.394\n",
            "2 금융부채비율_w_1 : -0.006\n",
            "3 금융부채비율2_w_1 : -0.037\n",
            "4 유동비율_w_1 : -0.508\n",
            "5 고정자산비율_w_1 : 0.038\n",
            "6 총자산영업이익률_w_1 : -0.004\n",
            "7 시장자산영업이익률_w_1 : 0.018\n",
            "8 자기자본순이익률_w_1 : 0.123\n",
            "9 총자산이익잉여금비율_w_1 : 0.004\n",
            "10 총자산증가율_w_1 : -0.018\n",
            "11 매출액증가율_w_1 : -0.008\n",
            "12 당기순이익증가율_w_1 : 0.029\n",
            "13 현금자산비율_w_1 : -0.046\n",
            "14 시장현금자산비율_w_1 : 0.002\n",
            "15 자산대비뎡업현금흐름_w_1 : -0.000\n",
            "16 자산회전율_w_1 : -0.082\n",
            "17 매출채권회전율_w_1 : -0.771\n",
            "18 총매출액유모_w_1 : 0.055\n",
            "19 총자산규모_w_1 : -0.201\n",
            "Fold: [4]  F1 Score: 0.869758  Accuracy: 0.859127\n",
            "----------------------------------------------------\n",
            "FOLD 5\n",
            "Reset trainable parameters of layer = Conv1d(1, 16, kernel_size=(1,), stride=(1,))\n",
            "Reset trainable parameters of layer = BatchNorm1d(16, eps=1e-05, momentum=0.1, affine=True, track_running_stats=True)\n",
            "Reset trainable parameters of layer = Linear(in_features=320, out_features=64, bias=True)\n",
            "Reset trainable parameters of layer = BatchNorm1d(64, eps=1e-05, momentum=0.1, affine=True, track_running_stats=True)\n",
            "Reset trainable parameters of layer = Linear(in_features=64, out_features=2, bias=True)\n",
            "Epoch [1], Train Loss : [0.17473]\n",
            "Epoch [2], Train Loss : [0.13981]\n",
            "Epoch [3], Train Loss : [0.13122]\n",
            "Epoch [4], Train Loss : [0.12637]\n",
            "Epoch [5], Train Loss : [0.12262]\n",
            "Epoch [6], Train Loss : [0.11996]\n",
            "Epoch [7], Train Loss : [0.11412]\n",
            "Epoch [8], Train Loss : [0.11108]\n",
            "Epoch [9], Train Loss : [0.10117]\n",
            "Epoch [10], Train Loss : [0.10283]\n",
            "Epoch [11], Train Loss : [0.10189]\n",
            "Epoch [12], Train Loss : [0.09844]\n",
            "Epoch [13], Train Loss : [0.09790]\n",
            "Epoch [14], Train Loss : [0.09392]\n",
            "Epoch [15], Train Loss : [0.08967]\n",
            "Epoch [16], Train Loss : [0.09833]\n",
            "Epoch [17], Train Loss : [0.09695]\n",
            "Epoch [18], Train Loss : [0.09430]\n",
            "Epoch [19], Train Loss : [0.09178]\n",
            "Epoch [20], Train Loss : [0.09095]\n",
            "Average Feature Importances\n",
            "(20,)\n",
            "0 부채비율_w_1 : 0.239\n",
            "1 시장부채비율_w_1 : 0.308\n",
            "2 금융부채비율_w_1 : -0.011\n",
            "3 금융부채비율2_w_1 : -0.047\n",
            "4 유동비율_w_1 : -0.339\n",
            "5 고정자산비율_w_1 : 0.017\n",
            "6 총자산영업이익률_w_1 : -0.007\n",
            "7 시장자산영업이익률_w_1 : 0.004\n",
            "8 자기자본순이익률_w_1 : 0.081\n",
            "9 총자산이익잉여금비율_w_1 : -0.032\n",
            "10 총자산증가율_w_1 : -0.011\n",
            "11 매출액증가율_w_1 : -0.003\n",
            "12 당기순이익증가율_w_1 : 0.020\n",
            "13 현금자산비율_w_1 : -0.053\n",
            "14 시장현금자산비율_w_1 : -0.015\n",
            "15 자산대비뎡업현금흐름_w_1 : -0.007\n",
            "16 자산회전율_w_1 : -0.102\n",
            "17 매출채권회전율_w_1 : -0.601\n",
            "18 총매출액유모_w_1 : -0.363\n",
            "19 총자산규모_w_1 : -0.142\n",
            "Fold: [5]  F1 Score: 0.881167  Accuracy: 0.872763\n",
            "----------------------------------------------------\n"
          ]
        },
        {
          "output_type": "display_data",
          "data": {
            "text/plain": [
              "<Figure size 864x432 with 1 Axes>"
            ],
            "image/png": "[encoded data removed]"
          },
          "metadata": {
            "needs_background": "light"
          }
        },
        {
          "output_type": "display_data",
          "data": {
            "text/plain": [
              "<Figure size 864x432 with 1 Axes>"
            ],
            "image/png": "[encoded data removed]"
          },
          "metadata": {
            "needs_background": "light"
          }
        },
        {
          "output_type": "display_data",
          "data": {
            "text/plain": [
              "<Figure size 864x432 with 1 Axes>"
            ],
            "image/png": "[encoded data removed]"
          },
          "metadata": {
            "needs_background": "light"
          }
        },
        {
          "output_type": "display_data",
          "data": {
            "text/plain": [
              "<Figure size 864x432 with 1 Axes>"
            ],
            "image/png": "[encoded data removed]"
          },
          "metadata": {
            "needs_background": "light"
          }
        },
        {
          "output_type": "display_data",
          "data": {
            "text/plain": [
              "<Figure size 864x432 with 1 Axes>"
            ],
            "image/png": "[encoded data removed]"
          },
          "metadata": {
            "needs_background": "light"
          }
        }
      ],
      "source": [
        "# start training\n",
        "confusion_list = []\n",
        "# attr_list = [0] * k_folds\n",
        "attr_list = [] # for visualization of feature attribution\n",
        "test_indices = [0]*k_folds # for visualization of feature attribution\n",
        "\n",
        "print('----------------------------------------------------')\n",
        "\n",
        "for fold, (train_ids, test_ids) in enumerate(kfold_st.split(fold_dataset, y=input_y)):\n",
        "    print(f'FOLD {fold+1}')\n",
        "    \n",
        "\n",
        "    train_subsampler = torch.utils.data.SubsetRandomSampler(train_ids)\n",
        "    test_subsampler = torch.utils.data.SubsetRandomSampler(test_ids)\n",
        "    # test_data = torch.tensor(input_X.iloc[test_ids].values).type(torch.FloatTensor) # captum # 주석처리 돼도 실행이 된다면 삭제\n",
        "\n",
        "    trainloader = torch.utils.data.DataLoader(\n",
        "                      fold_dataset, \n",
        "                      batch_size=CFG['BATCH_SIZE'], sampler=train_subsampler)\n",
        "    testloader = torch.utils.data.DataLoader(\n",
        "                      fold_dataset,\n",
        "                      batch_size=CFG['BATCH_SIZE'], sampler=test_subsampler)\n",
        "\n",
        "    model = CustomModel(input_size=input_X.shape[1], years=CFG['YEARS'])\n",
        "    model.apply(reset_weights)\n",
        "\n",
        "    optimizer = torch.optim.Adam(params = model.parameters(), lr=CFG[\"LEARNING_RATE\"])\n",
        "    scheduler = torch.optim.lr_scheduler.CosineAnnealingWarmRestarts(optimizer, T_0=5, T_mult=2, eta_min=1e-4)\n",
        "\n",
        "\n",
        "    infermodel = train_with_fold(model, optimizer, trainloader, scheduler=scheduler, device=device)\n",
        "    predict, test_f1, test_acc, total_attr, cm = inference(infermodel, testloader, device)\n",
        "    confusion_list.append(cm)\n",
        "    # attr_list[fold] = total_attr\n",
        "    attr_list.append(total_attr)\n",
        "    visualize_importances(feature_names, np.mean(total_attr, axis=0), fold)\n",
        "\n",
        "    test_indices[fold] = test_ids\n",
        "    \n",
        "    print(f'Fold: [{fold+1}]  F1 Score: {test_f1:.6f}  Accuracy: {test_acc:.6f}')\n",
        "    print('----------------------------------------------------')\n",
        "    results[fold] = (test_f1, test_acc)"
      ]
    },
    {
      "cell_type": "markdown",
      "metadata": {
        "id": "H7Su3tNhJtlF"
      },
      "source": [
        "### Results of Set 1"
      ]
    },
    {
      "cell_type": "code",
      "execution_count": 174,
      "metadata": {
        "colab": {
          "base_uri": "https://localhost:8080/"
        },
        "id": "Tv9pXTYI1sal",
        "outputId": "825b9ad1-9d77-4c45-ba3e-a95cf83167d1"
      },
      "outputs": [
        {
          "output_type": "stream",
          "name": "stdout",
          "text": [
            "CNN set1 1year using Stratified K-Fold Cross Validation Results For 5 Folds\n",
            "----------------------------------------------------\n",
            "Fold 0: F1 89.0139 %,  Accuracy 88.2937 %\n",
            "Fold 1: F1 92.3166 %,  Accuracy 92.0635 %\n",
            "Fold 2: F1 91.1452 %,  Accuracy 90.6746 %\n",
            "Fold 3: F1 92.1132 %,  Accuracy 91.8651 %\n",
            "Fold 4: F1 84.3656 %,  Accuracy 82.9026 %\n",
            "Average of F1 Score: 89.79088457525239 %,Average of Accuracy: 89.15988197797343 %\n"
          ]
        }
      ],
      "source": [
        "# Print fold results\n",
        "print(f'CNN set1 {CFG[\"YEARS\"]}year using Stratified K-Fold Cross Validation Results For {k_folds} Folds')\n",
        "print('----------------------------------------------------')\n",
        "sum_f1 = 0.0\n",
        "sum_acc = 0.0\n",
        "for key, (f1, acc) in results.items():\n",
        "    print(f'Fold {key}: F1 {f1 * 100:.4f} %,  Accuracy {acc * 100:.4f} %')\n",
        "    sum_f1 += f1\n",
        "    sum_acc += acc\n",
        "print(f'Average of F1 Score: {sum_f1/len(results.items()) * 100} %,', end='')\n",
        "print(f'Average of Accuracy: {sum_acc/len(results.items()) * 100} %')"
      ]
    },
    {
      "cell_type": "code",
      "execution_count": 175,
      "metadata": {
        "colab": {
          "base_uri": "https://localhost:8080/",
          "height": 1000
        },
        "id": "SUf3k6lfolwD",
        "outputId": "0ed18261-b5e0-4091-f722-f27d02ebeafb"
      },
      "outputs": [
        {
          "output_type": "display_data",
          "data": {
            "text/plain": [
              "<Figure size 432x288 with 2 Axes>"
            ],
            "image/png": "[encoded data removed]"
          },
          "metadata": {
            "needs_background": "light"
          }
        },
        {
          "output_type": "display_data",
          "data": {
            "text/plain": [
              "<Figure size 432x288 with 2 Axes>"
            ],
            "image/png": "[encoded data removed]"
          },
          "metadata": {
            "needs_background": "light"
          }
        },
        {
          "output_type": "display_data",
          "data": {
            "text/plain": [
              "<Figure size 432x288 with 2 Axes>"
            ],
            "image/png": "[encoded data removed]"
          },
          "metadata": {
            "needs_background": "light"
          }
        },
        {
          "output_type": "display_data",
          "data": {
            "text/plain": [
              "<Figure size 432x288 with 2 Axes>"
            ],
            "image/png": "[encoded data removed]"
          },
          "metadata": {
            "needs_background": "light"
          }
        },
        {
          "output_type": "display_data",
          "data": {
            "text/plain": [
              "<Figure size 432x288 with 2 Axes>"
            ],
            "image/png": "[encoded data removed]"
          },
          "metadata": {
            "needs_background": "light"
          }
        }
      ],
      "source": [
        "# display normalized confusion-matrix\n",
        "\n",
        "for cm in confusion_list:\n",
        "    # cm = cm/np.sum(cm)\n",
        "    ConfusionMatrixDisplay(cm).plot()"
      ]
    },
    {
      "cell_type": "code",
      "source": [
        "attr = np.array(attr_list[1])\n",
        "plt.hist(attr[:, 3], 100)"
      ],
      "metadata": {
        "colab": {
          "base_uri": "https://localhost:8080/",
          "height": 948
        },
        "id": "a2etFK8IAalH",
        "outputId": "8eca57c0-30c1-422d-ee5c-206afe4b8e46"
      },
      "execution_count": 179,
      "outputs": [
        {
          "output_type": "execute_result",
          "data": {
            "text/plain": [
              "(array([  1.,   1.,   0.,   0.,   0.,   2.,   0.,   0.,   0.,   0.,   0.,\n",
              "          0.,   0.,   0.,   0.,   0.,   0.,   0.,   0.,   0.,   0.,   0.,\n",
              "          0.,   1.,   0.,   3.,   0.,   1.,   0.,   0.,   0.,   1.,   2.,\n",
              "          0.,   1.,   1.,   1.,   1.,   2.,   2.,   0.,   1.,   1.,   3.,\n",
              "          3.,   0.,   1.,   0.,   0.,   0.,   2.,   2.,   2.,   2.,   2.,\n",
              "          5.,   3.,   3.,   0.,   2.,   2.,   0.,   2.,   1.,   1.,   5.,\n",
              "          4.,   2.,   0.,   5.,   3.,   5.,   4.,   1.,   1.,   5.,   4.,\n",
              "          1.,   2.,   0.,   4.,   3.,   5.,   7.,   4.,   5.,   4.,   9.,\n",
              "          7.,  11.,   5.,  10.,  16.,  10.,  17.,  13.,  22.,  36.,  57.,\n",
              "        159.]),\n",
              " array([-4.35543453e-01, -4.31185373e-01, -4.26827294e-01, -4.22469214e-01,\n",
              "        -4.18111134e-01, -4.13753054e-01, -4.09394974e-01, -4.05036894e-01,\n",
              "        -4.00678814e-01, -3.96320734e-01, -3.91962655e-01, -3.87604575e-01,\n",
              "        -3.83246495e-01, -3.78888415e-01, -3.74530335e-01, -3.70172255e-01,\n",
              "        -3.65814175e-01, -3.61456095e-01, -3.57098016e-01, -3.52739936e-01,\n",
              "        -3.48381856e-01, -3.44023776e-01, -3.39665696e-01, -3.35307616e-01,\n",
              "        -3.30949536e-01, -3.26591456e-01, -3.22233376e-01, -3.17875297e-01,\n",
              "        -3.13517217e-01, -3.09159137e-01, -3.04801057e-01, -3.00442977e-01,\n",
              "        -2.96084897e-01, -2.91726817e-01, -2.87368737e-01, -2.83010658e-01,\n",
              "        -2.78652578e-01, -2.74294498e-01, -2.69936418e-01, -2.65578338e-01,\n",
              "        -2.61220258e-01, -2.56862178e-01, -2.52504098e-01, -2.48146018e-01,\n",
              "        -2.43787939e-01, -2.39429859e-01, -2.35071779e-01, -2.30713699e-01,\n",
              "        -2.26355619e-01, -2.21997539e-01, -2.17639459e-01, -2.13281379e-01,\n",
              "        -2.08923300e-01, -2.04565220e-01, -2.00207140e-01, -1.95849060e-01,\n",
              "        -1.91490980e-01, -1.87132900e-01, -1.82774820e-01, -1.78416740e-01,\n",
              "        -1.74058661e-01, -1.69700581e-01, -1.65342501e-01, -1.60984421e-01,\n",
              "        -1.56626341e-01, -1.52268261e-01, -1.47910181e-01, -1.43552101e-01,\n",
              "        -1.39194021e-01, -1.34835942e-01, -1.30477862e-01, -1.26119782e-01,\n",
              "        -1.21761702e-01, -1.17403622e-01, -1.13045542e-01, -1.08687462e-01,\n",
              "        -1.04329382e-01, -9.99713025e-02, -9.56132226e-02, -9.12551428e-02,\n",
              "        -8.68970629e-02, -8.25389830e-02, -7.81809031e-02, -7.38228232e-02,\n",
              "        -6.94647434e-02, -6.51066635e-02, -6.07485836e-02, -5.63905037e-02,\n",
              "        -5.20324238e-02, -4.76743440e-02, -4.33162641e-02, -3.89581842e-02,\n",
              "        -3.46001043e-02, -3.02420244e-02, -2.58839446e-02, -2.15258647e-02,\n",
              "        -1.71677848e-02, -1.28097049e-02, -8.45162503e-03, -4.09354514e-03,\n",
              "         2.64534737e-04]),\n",
              " <a list of 100 Patch objects>)"
            ]
          },
          "metadata": {},
          "execution_count": 179
        },
        {
          "output_type": "display_data",
          "data": {
            "text/plain": [
              "<Figure size 432x288 with 1 Axes>"
            ],
            "image/png": "[encoded data removed]"
          },
          "metadata": {
            "needs_background": "light"
          }
        }
      ]
    },
    {
      "cell_type": "code",
      "source": [
        "test_features = input_X[test_indices[1]]\n"
      ],
      "metadata": {
        "colab": {
          "base_uri": "https://localhost:8080/",
          "height": 346
        },
        "id": "fsU-pZllW32Q",
        "outputId": "4b2932af-0e00-4ade-f289-6ffec1511d18"
      },
      "execution_count": 177,
      "outputs": [
        {
          "output_type": "error",
          "ename": "KeyError",
          "evalue": "ignored",
          "traceback": [
            "\u001b[0;31m---------------------------------------------------------------------------\u001b[0m",
            "\u001b[0;31mKeyError\u001b[0m                                  Traceback (most recent call last)",
            "\u001b[0;32m<ipython-input-177-376f6600caf7>\u001b[0m in \u001b[0;36m<module>\u001b[0;34m\u001b[0m\n\u001b[0;32m----> 1\u001b[0;31m \u001b[0mtest_features\u001b[0m \u001b[0;34m=\u001b[0m \u001b[0minput_X\u001b[0m\u001b[0;34m[\u001b[0m\u001b[0mtest_indices\u001b[0m\u001b[0;34m[\u001b[0m\u001b[0;36m1\u001b[0m\u001b[0;34m]\u001b[0m\u001b[0;34m]\u001b[0m\u001b[0;34m\u001b[0m\u001b[0;34m\u001b[0m\u001b[0m\n\u001b[0m",
            "\u001b[0;32m/usr/local/lib/python3.7/dist-packages/pandas/core/frame.py\u001b[0m in \u001b[0;36m__getitem__\u001b[0;34m(self, key)\u001b[0m\n\u001b[1;32m   3462\u001b[0m             \u001b[0;32mif\u001b[0m \u001b[0mis_iterator\u001b[0m\u001b[0;34m(\u001b[0m\u001b[0mkey\u001b[0m\u001b[0;34m)\u001b[0m\u001b[0;34m:\u001b[0m\u001b[0;34m\u001b[0m\u001b[0;34m\u001b[0m\u001b[0m\n\u001b[1;32m   3463\u001b[0m                 \u001b[0mkey\u001b[0m \u001b[0;34m=\u001b[0m \u001b[0mlist\u001b[0m\u001b[0;34m(\u001b[0m\u001b[0mkey\u001b[0m\u001b[0;34m)\u001b[0m\u001b[0;34m\u001b[0m\u001b[0;34m\u001b[0m\u001b[0m\n\u001b[0;32m-> 3464\u001b[0;31m             \u001b[0mindexer\u001b[0m \u001b[0;34m=\u001b[0m \u001b[0mself\u001b[0m\u001b[0;34m.\u001b[0m\u001b[0mloc\u001b[0m\u001b[0;34m.\u001b[0m\u001b[0m_get_listlike_indexer\u001b[0m\u001b[0;34m(\u001b[0m\u001b[0mkey\u001b[0m\u001b[0;34m,\u001b[0m \u001b[0maxis\u001b[0m\u001b[0;34m=\u001b[0m\u001b[0;36m1\u001b[0m\u001b[0;34m)\u001b[0m\u001b[0;34m[\u001b[0m\u001b[0;36m1\u001b[0m\u001b[0;34m]\u001b[0m\u001b[0;34m\u001b[0m\u001b[0;34m\u001b[0m\u001b[0m\n\u001b[0m\u001b[1;32m   3465\u001b[0m \u001b[0;34m\u001b[0m\u001b[0m\n\u001b[1;32m   3466\u001b[0m         \u001b[0;31m# take() does not accept boolean indexers\u001b[0m\u001b[0;34m\u001b[0m\u001b[0;34m\u001b[0m\u001b[0;34m\u001b[0m\u001b[0m\n",
            "\u001b[0;32m/usr/local/lib/python3.7/dist-packages/pandas/core/indexing.py\u001b[0m in \u001b[0;36m_get_listlike_indexer\u001b[0;34m(self, key, axis)\u001b[0m\n\u001b[1;32m   1312\u001b[0m             \u001b[0mkeyarr\u001b[0m\u001b[0;34m,\u001b[0m \u001b[0mindexer\u001b[0m\u001b[0;34m,\u001b[0m \u001b[0mnew_indexer\u001b[0m \u001b[0;34m=\u001b[0m \u001b[0max\u001b[0m\u001b[0;34m.\u001b[0m\u001b[0m_reindex_non_unique\u001b[0m\u001b[0;34m(\u001b[0m\u001b[0mkeyarr\u001b[0m\u001b[0;34m)\u001b[0m\u001b[0;34m\u001b[0m\u001b[0;34m\u001b[0m\u001b[0m\n\u001b[1;32m   1313\u001b[0m \u001b[0;34m\u001b[0m\u001b[0m\n\u001b[0;32m-> 1314\u001b[0;31m         \u001b[0mself\u001b[0m\u001b[0;34m.\u001b[0m\u001b[0m_validate_read_indexer\u001b[0m\u001b[0;34m(\u001b[0m\u001b[0mkeyarr\u001b[0m\u001b[0;34m,\u001b[0m \u001b[0mindexer\u001b[0m\u001b[0;34m,\u001b[0m \u001b[0maxis\u001b[0m\u001b[0;34m)\u001b[0m\u001b[0;34m\u001b[0m\u001b[0;34m\u001b[0m\u001b[0m\n\u001b[0m\u001b[1;32m   1315\u001b[0m \u001b[0;34m\u001b[0m\u001b[0m\n\u001b[1;32m   1316\u001b[0m         if needs_i8_conversion(ax.dtype) or isinstance(\n",
            "\u001b[0;32m/usr/local/lib/python3.7/dist-packages/pandas/core/indexing.py\u001b[0m in \u001b[0;36m_validate_read_indexer\u001b[0;34m(self, key, indexer, axis)\u001b[0m\n\u001b[1;32m   1372\u001b[0m                 \u001b[0;32mif\u001b[0m \u001b[0muse_interval_msg\u001b[0m\u001b[0;34m:\u001b[0m\u001b[0;34m\u001b[0m\u001b[0;34m\u001b[0m\u001b[0m\n\u001b[1;32m   1373\u001b[0m                     \u001b[0mkey\u001b[0m \u001b[0;34m=\u001b[0m \u001b[0mlist\u001b[0m\u001b[0;34m(\u001b[0m\u001b[0mkey\u001b[0m\u001b[0;34m)\u001b[0m\u001b[0;34m\u001b[0m\u001b[0;34m\u001b[0m\u001b[0m\n\u001b[0;32m-> 1374\u001b[0;31m                 \u001b[0;32mraise\u001b[0m \u001b[0mKeyError\u001b[0m\u001b[0;34m(\u001b[0m\u001b[0;34mf\"None of [{key}] are in the [{axis_name}]\"\u001b[0m\u001b[0;34m)\u001b[0m\u001b[0;34m\u001b[0m\u001b[0;34m\u001b[0m\u001b[0m\n\u001b[0m\u001b[1;32m   1375\u001b[0m \u001b[0;34m\u001b[0m\u001b[0m\n\u001b[1;32m   1376\u001b[0m             \u001b[0mnot_found\u001b[0m \u001b[0;34m=\u001b[0m \u001b[0mlist\u001b[0m\u001b[0;34m(\u001b[0m\u001b[0mensure_index\u001b[0m\u001b[0;34m(\u001b[0m\u001b[0mkey\u001b[0m\u001b[0;34m)\u001b[0m\u001b[0;34m[\u001b[0m\u001b[0mmissing_mask\u001b[0m\u001b[0;34m.\u001b[0m\u001b[0mnonzero\u001b[0m\u001b[0;34m(\u001b[0m\u001b[0;34m)\u001b[0m\u001b[0;34m[\u001b[0m\u001b[0;36m0\u001b[0m\u001b[0;34m]\u001b[0m\u001b[0;34m]\u001b[0m\u001b[0;34m.\u001b[0m\u001b[0munique\u001b[0m\u001b[0;34m(\u001b[0m\u001b[0;34m)\u001b[0m\u001b[0;34m)\u001b[0m\u001b[0;34m\u001b[0m\u001b[0;34m\u001b[0m\u001b[0m\n",
            "\u001b[0;31mKeyError\u001b[0m: \"None of [Int64Index([   5,    6,   12,   22,   29,   31,   35,   41,   42,   45,\\n            ...\\n            2465, 2467, 2474, 2482, 2483, 2492, 2496, 2498, 2503, 2504],\\n           dtype='int64', length=504)] are in the [columns]\""
          ]
        }
      ]
    },
    {
      "cell_type": "code",
      "source": [
        "from scipy import stats\n",
        "\n",
        "# test_features = input_X[test_indices[1]]\n",
        "\n",
        "bin_means, bin_edges, _ = stats.binned_statistic(test_features[:,4], attr[:,4], statistic='mean', bins=6)\n",
        "bin_count, _, _ = stats.binned_statistic(test_features[:,4], attr[:,4], statistic='count', bins=6)\n",
        "\n",
        "bin_width = (bin_edges[1] - bin_edges[0])\n",
        "bin_centers = bin_edges[1:] - bin_width/2\n",
        "plt.scatter(bin_centers, bin_means, s=bin_count)\n",
        "plt.xlabel(\"Average Sibsp Feature Value\");\n",
        "plt.ylabel(\"Average Attribution\");"
      ],
      "metadata": {
        "id": "FYoFvaG_U02Z"
      },
      "execution_count": null,
      "outputs": []
    },
    {
      "cell_type": "markdown",
      "metadata": {
        "id": "j57Q5R_F1-LM"
      },
      "source": [
        "## Set 2\n",
        "\n"
      ]
    },
    {
      "cell_type": "code",
      "execution_count": null,
      "metadata": {
        "colab": {
          "base_uri": "https://localhost:8080/"
        },
        "id": "B60hFPwBok-9",
        "outputId": "dab4a9c3-18a0-4e30-b4f7-72cd61396305"
      },
      "outputs": [
        {
          "output_type": "stream",
          "name": "stdout",
          "text": [
            "make (2519, 24)\n",
            "(2519, 24)\n"
          ]
        }
      ],
      "source": [
        "# Hyperparameter setting\n",
        "CFG = {\n",
        "    'EPOCHS':20,\n",
        "    'LEARNING_RATE':5e-3,\n",
        "    'BATCH_SIZE':64,\n",
        "    'SEED':41,\n",
        "    'YEARS': 1\n",
        "}\n",
        "\n",
        "seed_everything(CFG['SEED']) # Seed 고정\n",
        "PATH = '/content/drive/MyDrive/bankrupt prediction/data/train'\n",
        "\n",
        "data, input_y = load_data(PATH, CFG['YEARS'], norm=True)\n",
        "input_X = make_set2(data)\n",
        "print(input_X.shape)\n",
        "\n",
        "k_folds = 5\n",
        "\n",
        "# For fold results\n",
        "results = {}\n",
        "\n",
        "kfold_st = StratifiedKFold(n_splits=k_folds, shuffle=True, random_state=CFG['SEED'])\n",
        "\n",
        "fold_dataset = CustomDataset(input_X, input_y, target_transform=torch.nn.functional.one_hot)\n",
        "feature_names = input_X.columns"
      ]
    },
    {
      "cell_type": "code",
      "source": [
        "\"\"\"\n",
        "거시경제 데이터 분포\n",
        "80% 2021년\n",
        "20% 2000년~2020년\n",
        "\n",
        "따라서 거시경제 데이터를 scaling이나 normalization 하더라도 의미가 없음. 이미 데이터 자체가 안좋아서\n",
        "\"\"\""
      ],
      "metadata": {
        "id": "bZVmoXJ6hSe9"
      },
      "execution_count": null,
      "outputs": []
    },
    {
      "cell_type": "code",
      "execution_count": null,
      "metadata": {
        "colab": {
          "base_uri": "https://localhost:8080/",
          "height": 1000
        },
        "id": "qjwaEORcKp4r",
        "outputId": "f58e28fc-8336-435c-ee2c-1e32f215c5a5"
      },
      "outputs": [
        {
          "output_type": "stream",
          "name": "stdout",
          "text": [
            "----------------------------------------------------\n",
            "FOLD 1\n",
            "Reset trainable parameters of layer = Conv1d(1, 16, kernel_size=(1,), stride=(1,))\n",
            "Reset trainable parameters of layer = BatchNorm1d(16, eps=1e-05, momentum=0.1, affine=True, track_running_stats=True)\n",
            "Reset trainable parameters of layer = Linear(in_features=384, out_features=64, bias=True)\n",
            "Reset trainable parameters of layer = BatchNorm1d(64, eps=1e-05, momentum=0.1, affine=True, track_running_stats=True)\n",
            "Reset trainable parameters of layer = Linear(in_features=64, out_features=2, bias=True)\n",
            "Epoch [1], Train Loss : [0.17539]\n",
            "Epoch [2], Train Loss : [0.13746]\n",
            "Epoch [3], Train Loss : [0.13556]\n",
            "Epoch [4], Train Loss : [0.12869]\n",
            "Epoch [5], Train Loss : [0.12059]\n",
            "Epoch [6], Train Loss : [0.13332]\n",
            "Epoch [7], Train Loss : [0.12037]\n",
            "Epoch [8], Train Loss : [0.12655]\n",
            "Epoch [9], Train Loss : [0.11938]\n",
            "Epoch [10], Train Loss : [0.10032]\n",
            "Epoch [11], Train Loss : [0.10102]\n",
            "Epoch [12], Train Loss : [0.09958]\n",
            "Epoch [13], Train Loss : [0.10341]\n",
            "Epoch [14], Train Loss : [0.10039]\n",
            "Epoch [15], Train Loss : [0.09763]\n",
            "Epoch [16], Train Loss : [0.10390]\n",
            "Epoch [17], Train Loss : [0.09978]\n",
            "Epoch [18], Train Loss : [0.09290]\n",
            "Epoch [19], Train Loss : [0.09547]\n",
            "Epoch [20], Train Loss : [0.09584]\n",
            "Average Feature Importances\n",
            "Index(['부채비율_w', '시장부채비율_w', '금융부채비율_w', '금융부채비율2_w', '유동비율_w', '고정자산비율_w',\n",
            "       '총자산영업이익률_w', '시장자산영업이익률_w', '자기자본순이익률_w', '총자산이익잉여금비율_w', '총자산증가율_w',\n",
            "       '매출액증가율_w', '당기순이익증가율_w', '현금자산비율_w', '시장현금자산비율_w', '자산대비뎡업현금흐름_w',\n",
            "       '자산회전율_w', '매출채권회전율_w', '총매출액유모_w', '총자산규모_w', '직원수 증감_w',\n",
            "       '직원평균임금 증감_w', '최대주주지분율_w', '최대주주지분율 증감_w'],\n",
            "      dtype='object')\n",
            "부채비율_w: 0.2433\n",
            "시장부채비율_w: 0.2117\n",
            "자기자본순이익률_w: 0.1002\n",
            "고정자산비율_w: 0.0378\n",
            "최대주주지분율 증감_w: 0.0184\n",
            "총자산이익잉여금비율_w: 0.0146\n",
            "당기순이익증가율_w: 0.0089\n",
            "시장자산영업이익률_w: 0.0089\n",
            "직원수 증감_w: 0.0050\n",
            "총자산증가율_w: 0.0012\n",
            "총자산영업이익률_w: 0.0005\n",
            "자산대비뎡업현금흐름_w: -0.0012\n",
            "매출액증가율_w: -0.0013\n",
            "시장현금자산비율_w: -0.0057\n",
            "금융부채비율_w: -0.0075\n",
            "직원평균임금 증감_w: -0.0142\n",
            "금융부채비율2_w: -0.0323\n",
            "현금자산비율_w: -0.0332\n",
            "총자산규모_w: -0.0512\n",
            "자산회전율_w: -0.0659\n",
            "총매출액유모_w: -0.1021\n",
            "유동비율_w: -0.2422\n",
            "최대주주지분율_w: -0.5056\n",
            "매출채권회전율_w: -0.6251\n",
            "Fold: [1]  F1 Score: 0.891662  Accuracy: 0.884921\n",
            "----------------------------------------------------\n",
            "FOLD 2\n",
            "Reset trainable parameters of layer = Conv1d(1, 16, kernel_size=(1,), stride=(1,))\n",
            "Reset trainable parameters of layer = BatchNorm1d(16, eps=1e-05, momentum=0.1, affine=True, track_running_stats=True)\n",
            "Reset trainable parameters of layer = Linear(in_features=384, out_features=64, bias=True)\n",
            "Reset trainable parameters of layer = BatchNorm1d(64, eps=1e-05, momentum=0.1, affine=True, track_running_stats=True)\n",
            "Reset trainable parameters of layer = Linear(in_features=64, out_features=2, bias=True)\n",
            "Epoch [1], Train Loss : [0.17448]\n",
            "Epoch [2], Train Loss : [0.16257]\n",
            "Epoch [3], Train Loss : [0.15194]\n",
            "Epoch [4], Train Loss : [0.14375]\n",
            "Epoch [5], Train Loss : [0.15100]\n",
            "Epoch [6], Train Loss : [0.14268]\n",
            "Epoch [7], Train Loss : [0.13950]\n",
            "Epoch [8], Train Loss : [0.12836]\n",
            "Epoch [9], Train Loss : [0.11716]\n",
            "Epoch [10], Train Loss : [0.12230]\n",
            "Epoch [11], Train Loss : [0.11157]\n",
            "Epoch [12], Train Loss : [0.10559]\n",
            "Epoch [13], Train Loss : [0.11172]\n",
            "Epoch [14], Train Loss : [0.10378]\n",
            "Epoch [15], Train Loss : [0.10546]\n",
            "Epoch [16], Train Loss : [0.10886]\n",
            "Epoch [17], Train Loss : [0.10120]\n",
            "Epoch [18], Train Loss : [0.11227]\n",
            "Epoch [19], Train Loss : [0.10115]\n",
            "Epoch [20], Train Loss : [0.10879]\n",
            "Average Feature Importances\n",
            "Index(['부채비율_w', '시장부채비율_w', '금융부채비율_w', '금융부채비율2_w', '유동비율_w', '고정자산비율_w',\n",
            "       '총자산영업이익률_w', '시장자산영업이익률_w', '자기자본순이익률_w', '총자산이익잉여금비율_w', '총자산증가율_w',\n",
            "       '매출액증가율_w', '당기순이익증가율_w', '현금자산비율_w', '시장현금자산비율_w', '자산대비뎡업현금흐름_w',\n",
            "       '자산회전율_w', '매출채권회전율_w', '총매출액유모_w', '총자산규모_w', '직원수 증감_w',\n",
            "       '직원평균임금 증감_w', '최대주주지분율_w', '최대주주지분율 증감_w'],\n",
            "      dtype='object')\n",
            "부채비율_w: 0.2671\n",
            "시장부채비율_w: 0.1867\n",
            "고정자산비율_w: 0.0432\n",
            "자기자본순이익률_w: 0.0418\n",
            "최대주주지분율 증감_w: 0.0152\n",
            "시장자산영업이익률_w: 0.0094\n",
            "직원수 증감_w: 0.0068\n",
            "매출액증가율_w: 0.0063\n",
            "총자산증가율_w: 0.0039\n",
            "총자산영업이익률_w: -0.0004\n",
            "자산대비뎡업현금흐름_w: -0.0023\n",
            "당기순이익증가율_w: -0.0026\n",
            "시장현금자산비율_w: -0.0035\n",
            "금융부채비율_w: -0.0063\n",
            "자산회전율_w: -0.0126\n",
            "직원평균임금 증감_w: -0.0133\n",
            "총자산이익잉여금비율_w: -0.0141\n",
            "금융부채비율2_w: -0.0341\n",
            "현금자산비율_w: -0.0356\n",
            "유동비율_w: -0.0985\n",
            "총매출액유모_w: -0.1936\n",
            "총자산규모_w: -0.3501\n",
            "매출채권회전율_w: -0.6716\n",
            "최대주주지분율_w: -0.7527\n",
            "Fold: [2]  F1 Score: 0.938873  Accuracy: 0.936508\n",
            "----------------------------------------------------\n",
            "FOLD 3\n",
            "Reset trainable parameters of layer = Conv1d(1, 16, kernel_size=(1,), stride=(1,))\n",
            "Reset trainable parameters of layer = BatchNorm1d(16, eps=1e-05, momentum=0.1, affine=True, track_running_stats=True)\n",
            "Reset trainable parameters of layer = Linear(in_features=384, out_features=64, bias=True)\n",
            "Reset trainable parameters of layer = BatchNorm1d(64, eps=1e-05, momentum=0.1, affine=True, track_running_stats=True)\n",
            "Reset trainable parameters of layer = Linear(in_features=64, out_features=2, bias=True)\n",
            "Epoch [1], Train Loss : [0.17275]\n",
            "Epoch [2], Train Loss : [0.13907]\n",
            "Epoch [3], Train Loss : [0.13328]\n",
            "Epoch [4], Train Loss : [0.13430]\n",
            "Epoch [5], Train Loss : [0.14015]\n",
            "Epoch [6], Train Loss : [0.13040]\n",
            "Epoch [7], Train Loss : [0.13785]\n",
            "Epoch [8], Train Loss : [0.12121]\n",
            "Epoch [9], Train Loss : [0.13060]\n",
            "Epoch [10], Train Loss : [0.12699]\n",
            "Epoch [11], Train Loss : [0.11767]\n",
            "Epoch [12], Train Loss : [0.11655]\n",
            "Epoch [13], Train Loss : [0.10393]\n",
            "Epoch [14], Train Loss : [0.11021]\n",
            "Epoch [15], Train Loss : [0.10965]\n",
            "Epoch [16], Train Loss : [0.10574]\n",
            "Epoch [17], Train Loss : [0.10636]\n",
            "Epoch [18], Train Loss : [0.10325]\n",
            "Epoch [19], Train Loss : [0.10398]\n",
            "Epoch [20], Train Loss : [0.10185]\n",
            "Average Feature Importances\n",
            "Index(['부채비율_w', '시장부채비율_w', '금융부채비율_w', '금융부채비율2_w', '유동비율_w', '고정자산비율_w',\n",
            "       '총자산영업이익률_w', '시장자산영업이익률_w', '자기자본순이익률_w', '총자산이익잉여금비율_w', '총자산증가율_w',\n",
            "       '매출액증가율_w', '당기순이익증가율_w', '현금자산비율_w', '시장현금자산비율_w', '자산대비뎡업현금흐름_w',\n",
            "       '자산회전율_w', '매출채권회전율_w', '총매출액유모_w', '총자산규모_w', '직원수 증감_w',\n",
            "       '직원평균임금 증감_w', '최대주주지분율_w', '최대주주지분율 증감_w'],\n",
            "      dtype='object')\n",
            "부채비율_w: 0.2009\n",
            "시장부채비율_w: 0.1712\n",
            "자기자본순이익률_w: 0.1018\n",
            "총자산이익잉여금비율_w: 0.0349\n",
            "고정자산비율_w: 0.0250\n",
            "최대주주지분율 증감_w: 0.0092\n",
            "시장자산영업이익률_w: 0.0061\n",
            "자산대비뎡업현금흐름_w: -0.0008\n",
            "매출액증가율_w: -0.0009\n",
            "직원수 증감_w: -0.0011\n",
            "총자산영업이익률_w: -0.0020\n",
            "시장현금자산비율_w: -0.0029\n",
            "금융부채비율_w: -0.0038\n",
            "직원평균임금 증감_w: -0.0093\n",
            "총자산증가율_w: -0.0099\n",
            "금융부채비율2_w: -0.0162\n",
            "현금자산비율_w: -0.0246\n",
            "자산회전율_w: -0.0258\n",
            "당기순이익증가율_w: -0.0304\n",
            "총매출액유모_w: -0.0515\n",
            "총자산규모_w: -0.1335\n",
            "유동비율_w: -0.3875\n",
            "최대주주지분율_w: -0.5177\n",
            "매출채권회전율_w: -0.6811\n",
            "Fold: [3]  F1 Score: 0.892227  Accuracy: 0.884921\n",
            "----------------------------------------------------\n",
            "FOLD 4\n",
            "Reset trainable parameters of layer = Conv1d(1, 16, kernel_size=(1,), stride=(1,))\n",
            "Reset trainable parameters of layer = BatchNorm1d(16, eps=1e-05, momentum=0.1, affine=True, track_running_stats=True)\n",
            "Reset trainable parameters of layer = Linear(in_features=384, out_features=64, bias=True)\n",
            "Reset trainable parameters of layer = BatchNorm1d(64, eps=1e-05, momentum=0.1, affine=True, track_running_stats=True)\n",
            "Reset trainable parameters of layer = Linear(in_features=64, out_features=2, bias=True)\n",
            "Epoch [1], Train Loss : [0.16948]\n",
            "Epoch [2], Train Loss : [0.13785]\n",
            "Epoch [3], Train Loss : [0.13072]\n",
            "Epoch [4], Train Loss : [0.12992]\n",
            "Epoch [5], Train Loss : [0.12777]\n",
            "Epoch [6], Train Loss : [0.12665]\n",
            "Epoch [7], Train Loss : [0.12954]\n",
            "Epoch [8], Train Loss : [0.13387]\n",
            "Epoch [9], Train Loss : [0.11643]\n",
            "Epoch [10], Train Loss : [0.11520]\n",
            "Epoch [11], Train Loss : [0.10359]\n",
            "Epoch [12], Train Loss : [0.10592]\n",
            "Epoch [13], Train Loss : [0.09950]\n",
            "Epoch [14], Train Loss : [0.09925]\n",
            "Epoch [15], Train Loss : [0.10284]\n",
            "Epoch [16], Train Loss : [0.09745]\n",
            "Epoch [17], Train Loss : [0.09425]\n",
            "Epoch [18], Train Loss : [0.10758]\n",
            "Epoch [19], Train Loss : [0.09882]\n",
            "Epoch [20], Train Loss : [0.09759]\n",
            "Average Feature Importances\n",
            "Index(['부채비율_w', '시장부채비율_w', '금융부채비율_w', '금융부채비율2_w', '유동비율_w', '고정자산비율_w',\n",
            "       '총자산영업이익률_w', '시장자산영업이익률_w', '자기자본순이익률_w', '총자산이익잉여금비율_w', '총자산증가율_w',\n",
            "       '매출액증가율_w', '당기순이익증가율_w', '현금자산비율_w', '시장현금자산비율_w', '자산대비뎡업현금흐름_w',\n",
            "       '자산회전율_w', '매출채권회전율_w', '총매출액유모_w', '총자산규모_w', '직원수 증감_w',\n",
            "       '직원평균임금 증감_w', '최대주주지분율_w', '최대주주지분율 증감_w'],\n",
            "      dtype='object')\n",
            "부채비율_w: 0.3130\n",
            "시장부채비율_w: 0.2396\n",
            "총자산규모_w: 0.0709\n",
            "자기자본순이익률_w: 0.0688\n",
            "고정자산비율_w: 0.0338\n",
            "자산회전율_w: 0.0119\n",
            "당기순이익증가율_w: 0.0099\n",
            "최대주주지분율 증감_w: 0.0070\n",
            "시장자산영업이익률_w: 0.0060\n",
            "직원수 증감_w: 0.0034\n",
            "매출액증가율_w: 0.0033\n",
            "총자산영업이익률_w: -0.0039\n",
            "자산대비뎡업현금흐름_w: -0.0042\n",
            "시장현금자산비율_w: -0.0072\n",
            "금융부채비율_w: -0.0091\n",
            "총자산증가율_w: -0.0165\n",
            "총자산이익잉여금비율_w: -0.0182\n",
            "금융부채비율2_w: -0.0341\n",
            "직원평균임금 증감_w: -0.0392\n",
            "현금자산비율_w: -0.0407\n",
            "유동비율_w: -0.4148\n",
            "총매출액유모_w: -0.4930\n",
            "최대주주지분율_w: -0.9342\n",
            "매출채권회전율_w: -1.2003\n",
            "Fold: [4]  F1 Score: 0.905909  Accuracy: 0.900794\n",
            "----------------------------------------------------\n",
            "FOLD 5\n",
            "Reset trainable parameters of layer = Conv1d(1, 16, kernel_size=(1,), stride=(1,))\n",
            "Reset trainable parameters of layer = BatchNorm1d(16, eps=1e-05, momentum=0.1, affine=True, track_running_stats=True)\n",
            "Reset trainable parameters of layer = Linear(in_features=384, out_features=64, bias=True)\n",
            "Reset trainable parameters of layer = BatchNorm1d(64, eps=1e-05, momentum=0.1, affine=True, track_running_stats=True)\n",
            "Reset trainable parameters of layer = Linear(in_features=64, out_features=2, bias=True)\n",
            "Epoch [1], Train Loss : [0.16775]\n",
            "Epoch [2], Train Loss : [0.14538]\n",
            "Epoch [3], Train Loss : [0.13436]\n",
            "Epoch [4], Train Loss : [0.13634]\n",
            "Epoch [5], Train Loss : [0.12845]\n",
            "Epoch [6], Train Loss : [0.12443]\n",
            "Epoch [7], Train Loss : [0.12747]\n",
            "Epoch [8], Train Loss : [0.12407]\n",
            "Epoch [9], Train Loss : [0.11321]\n",
            "Epoch [10], Train Loss : [0.11268]\n",
            "Epoch [11], Train Loss : [0.10694]\n",
            "Epoch [12], Train Loss : [0.10329]\n",
            "Epoch [13], Train Loss : [0.10316]\n",
            "Epoch [14], Train Loss : [0.10352]\n",
            "Epoch [15], Train Loss : [0.09629]\n",
            "Epoch [16], Train Loss : [0.10098]\n",
            "Epoch [17], Train Loss : [0.10469]\n",
            "Epoch [18], Train Loss : [0.09578]\n",
            "Epoch [19], Train Loss : [0.09959]\n",
            "Epoch [20], Train Loss : [0.10302]\n",
            "Average Feature Importances\n",
            "Index(['부채비율_w', '시장부채비율_w', '금융부채비율_w', '금융부채비율2_w', '유동비율_w', '고정자산비율_w',\n",
            "       '총자산영업이익률_w', '시장자산영업이익률_w', '자기자본순이익률_w', '총자산이익잉여금비율_w', '총자산증가율_w',\n",
            "       '매출액증가율_w', '당기순이익증가율_w', '현금자산비율_w', '시장현금자산비율_w', '자산대비뎡업현금흐름_w',\n",
            "       '자산회전율_w', '매출채권회전율_w', '총매출액유모_w', '총자산규모_w', '직원수 증감_w',\n",
            "       '직원평균임금 증감_w', '최대주주지분율_w', '최대주주지분율 증감_w'],\n",
            "      dtype='object')\n",
            "부채비율_w: 0.2192\n",
            "시장부채비율_w: 0.2083\n",
            "자기자본순이익률_w: 0.0709\n",
            "고정자산비율_w: 0.0355\n",
            "최대주주지분율 증감_w: 0.0144\n",
            "당기순이익증가율_w: 0.0128\n",
            "총자산이익잉여금비율_w: 0.0084\n",
            "시장자산영업이익률_w: 0.0033\n",
            "직원수 증감_w: 0.0023\n",
            "자산대비뎡업현금흐름_w: -0.0005\n",
            "총자산영업이익률_w: -0.0018\n",
            "금융부채비율_w: -0.0028\n",
            "시장현금자산비율_w: -0.0041\n",
            "매출액증가율_w: -0.0104\n",
            "금융부채비율2_w: -0.0129\n",
            "직원평균임금 증감_w: -0.0174\n",
            "총자산증가율_w: -0.0189\n",
            "현금자산비율_w: -0.0212\n",
            "자산회전율_w: -0.0249\n",
            "총자산규모_w: -0.1323\n",
            "총매출액유모_w: -0.3769\n",
            "유동비율_w: -0.6118\n",
            "최대주주지분율_w: -0.6523\n",
            "매출채권회전율_w: -0.9559\n",
            "Fold: [5]  F1 Score: 0.883348  Accuracy: 0.874751\n",
            "----------------------------------------------------\n"
          ]
        },
        {
          "output_type": "display_data",
          "data": {
            "text/plain": [
              "<Figure size 864x432 with 1 Axes>"
            ],
            "image/png": "[encoded data removed]"
          },
          "metadata": {
            "needs_background": "light"
          }
        },
        {
          "output_type": "display_data",
          "data": {
            "text/plain": [
              "<Figure size 864x432 with 1 Axes>"
            ],
            "image/png": "[encoded data removed]"
          },
          "metadata": {
            "needs_background": "light"
          }
        },
        {
          "output_type": "display_data",
          "data": {
            "text/plain": [
              "<Figure size 864x432 with 1 Axes>"
            ],
            "image/png": "[encoded data removed]"
          },
          "metadata": {
            "needs_background": "light"
          }
        },
        {
          "output_type": "display_data",
          "data": {
            "text/plain": [
              "<Figure size 864x432 with 1 Axes>"
            ],
            "image/png": "[encoded data removed]"
          },
          "metadata": {
            "needs_background": "light"
          }
        },
        {
          "output_type": "display_data",
          "data": {
            "text/plain": [
              "<Figure size 864x432 with 1 Axes>"
            ],
            "image/png": "[encoded data removed]"
          },
          "metadata": {
            "needs_background": "light"
          }
        }
      ],
      "source": [
        "# start training\n",
        "confusion_list = []\n",
        "attr_list = []\n",
        "\n",
        "print('----------------------------------------------------')\n",
        "\n",
        "for fold, (train_ids, test_ids) in enumerate(kfold_st.split(fold_dataset, y=input_y)):\n",
        "    print(f'FOLD {fold+1}')\n",
        "    \n",
        "\n",
        "    train_subsampler = torch.utils.data.SubsetRandomSampler(train_ids)\n",
        "    test_subsampler = torch.utils.data.SubsetRandomSampler(test_ids)\n",
        "    test_data = torch.tensor(input_X.iloc[test_ids].values).type(torch.FloatTensor) # captum\n",
        "\n",
        "    trainloader = torch.utils.data.DataLoader(\n",
        "                      fold_dataset, \n",
        "                      batch_size=CFG['BATCH_SIZE'], sampler=train_subsampler)\n",
        "    testloader = torch.utils.data.DataLoader(\n",
        "                      fold_dataset,\n",
        "                      batch_size=CFG['BATCH_SIZE'], sampler=test_subsampler)\n",
        "\n",
        "    model = CustomModel(input_size=input_X.shape[1], years=CFG['YEARS'])\n",
        "    model.apply(reset_weights)\n",
        "\n",
        "    optimizer = torch.optim.Adam(params = model.parameters(), lr=CFG[\"LEARNING_RATE\"])\n",
        "    scheduler = torch.optim.lr_scheduler.CosineAnnealingWarmRestarts(optimizer, T_0=5, T_mult=2, eta_min=1e-4)\n",
        "\n",
        "\n",
        "    infermodel = train_with_fold(model, optimizer, trainloader, scheduler=scheduler, device=device)\n",
        "    predict, test_f1, test_acc, total_attr, cm = inference(infermodel, testloader, device)\n",
        "    confusion_list.append(cm)\n",
        "\n",
        "    visualize_importances(feature_names, np.mean(total_attr, axis=0), fold)\n",
        "\n",
        "\n",
        "    print(f'Fold: [{fold+1}]  F1 Score: {test_f1:.6f}  Accuracy: {test_acc:.6f}')\n",
        "    print('----------------------------------------------------')\n",
        "    results[fold] = (test_f1, test_acc)"
      ]
    },
    {
      "cell_type": "markdown",
      "metadata": {
        "id": "ddpMqaQNJ3jU"
      },
      "source": [
        "### Results of Set 2"
      ]
    },
    {
      "cell_type": "code",
      "execution_count": null,
      "metadata": {
        "colab": {
          "base_uri": "https://localhost:8080/"
        },
        "id": "-N4Gn6s5J4HH",
        "outputId": "4e39e064-f1c5-42bb-aede-e5b9013c58d5"
      },
      "outputs": [
        {
          "output_type": "stream",
          "name": "stdout",
          "text": [
            "CNN set1 1year using Stratified K-Fold Cross Validation Results For 5 Folds\n",
            "----------------------------------------------------\n",
            "Fold 0: F1 89.1662 %,  Accuracy 88.4921 %\n",
            "Fold 1: F1 93.8873 %,  Accuracy 93.6508 %\n",
            "Fold 2: F1 89.2227 %,  Accuracy 88.4921 %\n",
            "Fold 3: F1 90.5909 %,  Accuracy 90.0794 %\n",
            "Fold 4: F1 88.3348 %,  Accuracy 87.4751 %\n",
            "Average of F1 Score: 90.24037701535714 %,Average of Accuracy: 89.6378869639307 %\n"
          ]
        }
      ],
      "source": [
        "# Print fold results\n",
        "print(f'CNN set1 {CFG[\"YEARS\"]}year using Stratified K-Fold Cross Validation Results For {k_folds} Folds')\n",
        "print('----------------------------------------------------')\n",
        "sum_f1 = 0.0\n",
        "sum_acc = 0.0\n",
        "for key, (f1, acc) in results.items():\n",
        "    print(f'Fold {key}: F1 {f1 * 100:.4f} %,  Accuracy {acc * 100:.4f} %')\n",
        "    sum_f1 += f1\n",
        "    sum_acc += acc\n",
        "print(f'Average of F1 Score: {sum_f1/len(results.items()) * 100} %,', end='')\n",
        "print(f'Average of Accuracy: {sum_acc/len(results.items()) * 100} %')"
      ]
    },
    {
      "cell_type": "code",
      "execution_count": null,
      "metadata": {
        "colab": {
          "base_uri": "https://localhost:8080/",
          "height": 1000
        },
        "id": "zbXh99-9J4OD",
        "outputId": "5ce71161-ebf2-4922-f6f7-6857ae4cb5a7"
      },
      "outputs": [
        {
          "output_type": "display_data",
          "data": {
            "text/plain": [
              "<Figure size 432x288 with 2 Axes>"
            ],
            "image/png": "[encoded data removed]"
          },
          "metadata": {
            "needs_background": "light"
          }
        },
        {
          "output_type": "display_data",
          "data": {
            "text/plain": [
              "<Figure size 432x288 with 2 Axes>"
            ],
            "image/png": "[encoded data removed]"
          },
          "metadata": {
            "needs_background": "light"
          }
        },
        {
          "output_type": "display_data",
          "data": {
            "text/plain": [
              "<Figure size 432x288 with 2 Axes>"
            ],
            "image/png": "[encoded data removed]"
          },
          "metadata": {
            "needs_background": "light"
          }
        },
        {
          "output_type": "display_data",
          "data": {
            "text/plain": [
              "<Figure size 432x288 with 2 Axes>"
            ],
            "image/png": "[encoded data removed]"
          },
          "metadata": {
            "needs_background": "light"
          }
        },
        {
          "output_type": "display_data",
          "data": {
            "text/plain": [
              "<Figure size 432x288 with 2 Axes>"
            ],
            "image/png": "[encoded data removed]"
          },
          "metadata": {
            "needs_background": "light"
          }
        }
      ],
      "source": [
        "# display normalized confusion-matrix\n",
        "\n",
        "for cm in confusion_list:\n",
        "    cm = cm/np.sum(cm)\n",
        "    ConfusionMatrixDisplay(cm).plot()"
      ]
    },
    {
      "cell_type": "markdown",
      "metadata": {
        "id": "k-VXgDRjJ4br"
      },
      "source": [
        "## Set 3"
      ]
    },
    {
      "cell_type": "code",
      "execution_count": null,
      "metadata": {
        "colab": {
          "base_uri": "https://localhost:8080/"
        },
        "id": "Z8ONDm1GJ4pn",
        "outputId": "47fa94be-84e7-4146-92ee-785395180366"
      },
      "outputs": [
        {
          "output_type": "stream",
          "name": "stdout",
          "text": [
            "make (2519, 32)\n",
            "(2519, 32)\n"
          ]
        }
      ],
      "source": [
        "# Hyperparameter setting\n",
        "CFG = {\n",
        "    'EPOCHS':20,\n",
        "    'LEARNING_RATE':5e-3,\n",
        "    'BATCH_SIZE':64,\n",
        "    'SEED':41,\n",
        "    'YEARS': 1\n",
        "}\n",
        "\n",
        "seed_everything(CFG['SEED']) # Seed 고정\n",
        "PATH = '/content/drive/MyDrive/bankrupt prediction/data/train'\n",
        "\n",
        "data, input_y = load_data(PATH, CFG['YEARS'], norm=True)\n",
        "input_X = make_set3(data)\n",
        "print(input_X.shape)\n",
        "\n",
        "k_folds = 5\n",
        "\n",
        "# For fold results\n",
        "results = {}\n",
        "\n",
        "kfold_st = StratifiedKFold(n_splits=k_folds, shuffle=True, random_state=CFG['SEED'])\n",
        "\n",
        "fold_dataset = CustomDataset(input_X, input_y, target_transform=torch.nn.functional.one_hot)\n",
        "feature_names = input_X.columns"
      ]
    },
    {
      "cell_type": "code",
      "execution_count": null,
      "metadata": {
        "colab": {
          "base_uri": "https://localhost:8080/",
          "height": 1000
        },
        "id": "o9q6KkVzJ4sR",
        "outputId": "e191091d-2074-4847-f5c1-7ba90170a7e0"
      },
      "outputs": [
        {
          "output_type": "stream",
          "name": "stdout",
          "text": [
            "----------------------------------------------------\n",
            "FOLD 1\n",
            "Reset trainable parameters of layer = Conv1d(1, 16, kernel_size=(1,), stride=(1,))\n",
            "Reset trainable parameters of layer = BatchNorm1d(16, eps=1e-05, momentum=0.1, affine=True, track_running_stats=True)\n",
            "Reset trainable parameters of layer = Linear(in_features=512, out_features=64, bias=True)\n",
            "Reset trainable parameters of layer = BatchNorm1d(64, eps=1e-05, momentum=0.1, affine=True, track_running_stats=True)\n",
            "Reset trainable parameters of layer = Linear(in_features=64, out_features=2, bias=True)\n",
            "Epoch [1], Train Loss : [0.20912]\n",
            "Epoch [2], Train Loss : [0.19277]\n",
            "Epoch [3], Train Loss : [0.19570]\n",
            "Epoch [4], Train Loss : [0.17537]\n",
            "Epoch [5], Train Loss : [0.17680]\n",
            "Epoch [6], Train Loss : [0.16684]\n",
            "Epoch [7], Train Loss : [0.15292]\n",
            "Epoch [8], Train Loss : [0.14465]\n",
            "Epoch [9], Train Loss : [0.13080]\n",
            "Epoch [10], Train Loss : [0.11053]\n",
            "Epoch [11], Train Loss : [0.09657]\n",
            "Epoch [12], Train Loss : [0.08680]\n",
            "Epoch [13], Train Loss : [0.08449]\n",
            "Epoch [14], Train Loss : [0.07207]\n",
            "Epoch [15], Train Loss : [0.07528]\n",
            "Epoch [16], Train Loss : [0.08239]\n",
            "Epoch [17], Train Loss : [0.07883]\n",
            "Epoch [18], Train Loss : [0.07230]\n",
            "Epoch [19], Train Loss : [0.07827]\n",
            "Epoch [20], Train Loss : [0.08661]\n",
            "Average Feature Importances\n",
            "Index(['부채비율_w', '시장부채비율_w', '금융부채비율_w', '금융부채비율2_w', '유동비율_w', '고정자산비율_w',\n",
            "       '총자산영업이익률_w', '시장자산영업이익률_w', '자기자본순이익률_w', '총자산이익잉여금비율_w', '총자산증가율_w',\n",
            "       '매출액증가율_w', '당기순이익증가율_w', '현금자산비율_w', '시장현금자산비율_w', '자산대비뎡업현금흐름_w',\n",
            "       '자산회전율_w', '매출채권회전율_w', '총매출액유모_w', '총자산규모_w', '직원수 증감_w',\n",
            "       '직원평균임금 증감_w', '최대주주지분율_w', '최대주주지분율 증감_w', '국고채3년', 'CD유통수익률(91일)',\n",
            "       '한국 WON(매매기준율)', '국내총생산(십억원)', 'KSOPI 종가지수', 'KOSDAQ 종가지수',\n",
            "       '생산자물가지수 증감', '소비자물가지수 증감'],\n",
            "      dtype='object')\n",
            "국내총생산(십억원): 0.4527\n",
            "총자산규모_w: 0.0005\n",
            "총매출액유모_w: 0.0001\n",
            "유동비율_w: 0.0000\n",
            "CD유통수익률(91일): 0.0000\n",
            "시장부채비율_w: 0.0000\n",
            "생산자물가지수 증감: 0.0000\n",
            "매출액증가율_w: 0.0000\n",
            "시장자산영업이익률_w: 0.0000\n",
            "최대주주지분율 증감_w: 0.0000\n",
            "직원수 증감_w: 0.0000\n",
            "총자산영업이익률_w: 0.0000\n",
            "금융부채비율_w: 0.0000\n",
            "자산대비뎡업현금흐름_w: 0.0000\n",
            "총자산이익잉여금비율_w: -0.0000\n",
            "직원평균임금 증감_w: -0.0000\n",
            "소비자물가지수 증감: -0.0000\n",
            "금융부채비율2_w: -0.0000\n",
            "총자산증가율_w: -0.0000\n",
            "시장현금자산비율_w: -0.0000\n",
            "현금자산비율_w: -0.0000\n",
            "당기순이익증가율_w: -0.0000\n",
            "자기자본순이익률_w: -0.0000\n",
            "자산회전율_w: -0.0000\n",
            "고정자산비율_w: -0.0000\n",
            "부채비율_w: -0.0000\n",
            "국고채3년: -0.0000\n",
            "매출채권회전율_w: -0.0000\n",
            "최대주주지분율_w: -0.0007\n",
            "한국 WON(매매기준율): -0.0154\n",
            "KOSDAQ 종가지수: -0.2144\n",
            "KSOPI 종가지수: -2.9117\n",
            "Fold: [1]  F1 Score: 0.066909  Accuracy: 0.200397\n",
            "----------------------------------------------------\n",
            "FOLD 2\n",
            "Reset trainable parameters of layer = Conv1d(1, 16, kernel_size=(1,), stride=(1,))\n",
            "Reset trainable parameters of layer = BatchNorm1d(16, eps=1e-05, momentum=0.1, affine=True, track_running_stats=True)\n",
            "Reset trainable parameters of layer = Linear(in_features=512, out_features=64, bias=True)\n",
            "Reset trainable parameters of layer = BatchNorm1d(64, eps=1e-05, momentum=0.1, affine=True, track_running_stats=True)\n",
            "Reset trainable parameters of layer = Linear(in_features=64, out_features=2, bias=True)\n",
            "Epoch [1], Train Loss : [0.20084]\n",
            "Epoch [2], Train Loss : [0.18800]\n",
            "Epoch [3], Train Loss : [0.17522]\n",
            "Epoch [4], Train Loss : [0.17489]\n",
            "Epoch [5], Train Loss : [0.17498]\n",
            "Epoch [6], Train Loss : [0.17663]\n",
            "Epoch [7], Train Loss : [0.16169]\n",
            "Epoch [8], Train Loss : [0.15022]\n",
            "Epoch [9], Train Loss : [0.14108]\n",
            "Epoch [10], Train Loss : [0.13275]\n",
            "Epoch [11], Train Loss : [0.13048]\n",
            "Epoch [12], Train Loss : [0.11447]\n",
            "Epoch [13], Train Loss : [0.11811]\n",
            "Epoch [14], Train Loss : [0.11801]\n",
            "Epoch [15], Train Loss : [0.11783]\n",
            "Epoch [16], Train Loss : [0.11469]\n",
            "Epoch [17], Train Loss : [0.10748]\n",
            "Epoch [18], Train Loss : [0.09025]\n",
            "Epoch [19], Train Loss : [0.07314]\n",
            "Epoch [20], Train Loss : [0.06066]\n",
            "Average Feature Importances\n",
            "Index(['부채비율_w', '시장부채비율_w', '금융부채비율_w', '금융부채비율2_w', '유동비율_w', '고정자산비율_w',\n",
            "       '총자산영업이익률_w', '시장자산영업이익률_w', '자기자본순이익률_w', '총자산이익잉여금비율_w', '총자산증가율_w',\n",
            "       '매출액증가율_w', '당기순이익증가율_w', '현금자산비율_w', '시장현금자산비율_w', '자산대비뎡업현금흐름_w',\n",
            "       '자산회전율_w', '매출채권회전율_w', '총매출액유모_w', '총자산규모_w', '직원수 증감_w',\n",
            "       '직원평균임금 증감_w', '최대주주지분율_w', '최대주주지분율 증감_w', '국고채3년', 'CD유통수익률(91일)',\n",
            "       '한국 WON(매매기준율)', '국내총생산(십억원)', 'KSOPI 종가지수', 'KOSDAQ 종가지수',\n",
            "       '생산자물가지수 증감', '소비자물가지수 증감'],\n",
            "      dtype='object')\n",
            "부채비율_w: 0.0000\n",
            "시장부채비율_w: 0.0000\n",
            "금융부채비율_w: 0.0000\n",
            "금융부채비율2_w: 0.0000\n",
            "유동비율_w: 0.0000\n",
            "고정자산비율_w: 0.0000\n",
            "총자산영업이익률_w: 0.0000\n",
            "시장자산영업이익률_w: 0.0000\n",
            "자기자본순이익률_w: 0.0000\n",
            "총자산이익잉여금비율_w: 0.0000\n",
            "총자산증가율_w: 0.0000\n",
            "매출액증가율_w: 0.0000\n",
            "당기순이익증가율_w: 0.0000\n",
            "현금자산비율_w: 0.0000\n",
            "시장현금자산비율_w: 0.0000\n",
            "자산대비뎡업현금흐름_w: 0.0000\n",
            "자산회전율_w: 0.0000\n",
            "매출채권회전율_w: 0.0000\n",
            "총매출액유모_w: 0.0000\n",
            "총자산규모_w: 0.0000\n",
            "직원수 증감_w: 0.0000\n",
            "직원평균임금 증감_w: 0.0000\n",
            "최대주주지분율_w: 0.0000\n",
            "최대주주지분율 증감_w: 0.0000\n",
            "국고채3년: 0.0000\n",
            "CD유통수익률(91일): 0.0000\n",
            "한국 WON(매매기준율): 0.0000\n",
            "KSOPI 종가지수: 0.0000\n",
            "KOSDAQ 종가지수: 0.0000\n",
            "생산자물가지수 증감: 0.0000\n",
            "소비자물가지수 증감: 0.0000\n",
            "국내총생산(십억원): -1.5777\n",
            "Fold: [2]  F1 Score: 0.983881  Accuracy: 0.984127\n",
            "----------------------------------------------------\n",
            "FOLD 3\n",
            "Reset trainable parameters of layer = Conv1d(1, 16, kernel_size=(1,), stride=(1,))\n",
            "Reset trainable parameters of layer = BatchNorm1d(16, eps=1e-05, momentum=0.1, affine=True, track_running_stats=True)\n",
            "Reset trainable parameters of layer = Linear(in_features=512, out_features=64, bias=True)\n",
            "Reset trainable parameters of layer = BatchNorm1d(64, eps=1e-05, momentum=0.1, affine=True, track_running_stats=True)\n",
            "Reset trainable parameters of layer = Linear(in_features=64, out_features=2, bias=True)\n",
            "Epoch [1], Train Loss : [0.18677]\n",
            "Epoch [2], Train Loss : [0.17925]\n",
            "Epoch [3], Train Loss : [0.17815]\n",
            "Epoch [4], Train Loss : [0.16495]\n",
            "Epoch [5], Train Loss : [0.16657]\n",
            "Epoch [6], Train Loss : [0.17226]\n",
            "Epoch [7], Train Loss : [0.15876]\n",
            "Epoch [8], Train Loss : [0.16237]\n",
            "Epoch [9], Train Loss : [0.15672]\n",
            "Epoch [10], Train Loss : [0.14060]\n",
            "Epoch [11], Train Loss : [0.13388]\n",
            "Epoch [12], Train Loss : [0.12977]\n",
            "Epoch [13], Train Loss : [0.12949]\n",
            "Epoch [14], Train Loss : [0.12722]\n",
            "Epoch [15], Train Loss : [0.13222]\n",
            "Epoch [16], Train Loss : [0.13118]\n",
            "Epoch [17], Train Loss : [0.12545]\n",
            "Epoch [18], Train Loss : [0.10980]\n",
            "Epoch [19], Train Loss : [0.09825]\n",
            "Epoch [20], Train Loss : [0.07847]\n",
            "Average Feature Importances\n",
            "Index(['부채비율_w', '시장부채비율_w', '금융부채비율_w', '금융부채비율2_w', '유동비율_w', '고정자산비율_w',\n",
            "       '총자산영업이익률_w', '시장자산영업이익률_w', '자기자본순이익률_w', '총자산이익잉여금비율_w', '총자산증가율_w',\n",
            "       '매출액증가율_w', '당기순이익증가율_w', '현금자산비율_w', '시장현금자산비율_w', '자산대비뎡업현금흐름_w',\n",
            "       '자산회전율_w', '매출채권회전율_w', '총매출액유모_w', '총자산규모_w', '직원수 증감_w',\n",
            "       '직원평균임금 증감_w', '최대주주지분율_w', '최대주주지분율 증감_w', '국고채3년', 'CD유통수익률(91일)',\n",
            "       '한국 WON(매매기준율)', '국내총생산(십억원)', 'KSOPI 종가지수', 'KOSDAQ 종가지수',\n",
            "       '생산자물가지수 증감', '소비자물가지수 증감'],\n",
            "      dtype='object')\n",
            "한국 WON(매매기준율): 0.0037\n",
            "총매출액유모_w: 0.0000\n",
            "매출채권회전율_w: 0.0000\n",
            "최대주주지분율_w: 0.0000\n",
            "당기순이익증가율_w: 0.0000\n",
            "CD유통수익률(91일): 0.0000\n",
            "총자산이익잉여금비율_w: 0.0000\n",
            "부채비율_w: 0.0000\n",
            "직원수 증감_w: 0.0000\n",
            "최대주주지분율 증감_w: 0.0000\n",
            "자산대비뎡업현금흐름_w: 0.0000\n",
            "총자산영업이익률_w: -0.0000\n",
            "직원평균임금 증감_w: -0.0000\n",
            "시장현금자산비율_w: -0.0000\n",
            "금융부채비율_w: -0.0000\n",
            "총자산증가율_w: -0.0000\n",
            "매출액증가율_w: -0.0000\n",
            "소비자물가지수 증감: -0.0000\n",
            "생산자물가지수 증감: -0.0000\n",
            "금융부채비율2_w: -0.0000\n",
            "시장자산영업이익률_w: -0.0000\n",
            "고정자산비율_w: -0.0000\n",
            "자기자본순이익률_w: -0.0000\n",
            "현금자산비율_w: -0.0000\n",
            "시장부채비율_w: -0.0000\n",
            "유동비율_w: -0.0000\n",
            "자산회전율_w: -0.0000\n",
            "총자산규모_w: -0.0000\n",
            "국고채3년: -0.0000\n",
            "KOSDAQ 종가지수: -0.0150\n",
            "KSOPI 종가지수: -0.1239\n",
            "국내총생산(십억원): -0.7531\n",
            "Fold: [3]  F1 Score: 0.068128  Accuracy: 0.202381\n",
            "----------------------------------------------------\n",
            "FOLD 4\n",
            "Reset trainable parameters of layer = Conv1d(1, 16, kernel_size=(1,), stride=(1,))\n",
            "Reset trainable parameters of layer = BatchNorm1d(16, eps=1e-05, momentum=0.1, affine=True, track_running_stats=True)\n",
            "Reset trainable parameters of layer = Linear(in_features=512, out_features=64, bias=True)\n",
            "Reset trainable parameters of layer = BatchNorm1d(64, eps=1e-05, momentum=0.1, affine=True, track_running_stats=True)\n",
            "Reset trainable parameters of layer = Linear(in_features=64, out_features=2, bias=True)\n",
            "Epoch [1], Train Loss : [0.19369]\n",
            "Epoch [2], Train Loss : [0.17972]\n",
            "Epoch [3], Train Loss : [0.18366]\n",
            "Epoch [4], Train Loss : [0.17069]\n",
            "Epoch [5], Train Loss : [0.17287]\n",
            "Epoch [6], Train Loss : [0.16754]\n",
            "Epoch [7], Train Loss : [0.15348]\n",
            "Epoch [8], Train Loss : [0.14867]\n",
            "Epoch [9], Train Loss : [0.13737]\n",
            "Epoch [10], Train Loss : [0.12578]\n",
            "Epoch [11], Train Loss : [0.12005]\n",
            "Epoch [12], Train Loss : [0.11837]\n",
            "Epoch [13], Train Loss : [0.10386]\n",
            "Epoch [14], Train Loss : [0.10193]\n",
            "Epoch [15], Train Loss : [0.10304]\n",
            "Epoch [16], Train Loss : [0.09584]\n",
            "Epoch [17], Train Loss : [0.08701]\n",
            "Epoch [18], Train Loss : [0.06841]\n",
            "Epoch [19], Train Loss : [0.08037]\n",
            "Epoch [20], Train Loss : [0.08983]\n",
            "Average Feature Importances\n",
            "Index(['부채비율_w', '시장부채비율_w', '금융부채비율_w', '금융부채비율2_w', '유동비율_w', '고정자산비율_w',\n",
            "       '총자산영업이익률_w', '시장자산영업이익률_w', '자기자본순이익률_w', '총자산이익잉여금비율_w', '총자산증가율_w',\n",
            "       '매출액증가율_w', '당기순이익증가율_w', '현금자산비율_w', '시장현금자산비율_w', '자산대비뎡업현금흐름_w',\n",
            "       '자산회전율_w', '매출채권회전율_w', '총매출액유모_w', '총자산규모_w', '직원수 증감_w',\n",
            "       '직원평균임금 증감_w', '최대주주지분율_w', '최대주주지분율 증감_w', '국고채3년', 'CD유통수익률(91일)',\n",
            "       '한국 WON(매매기준율)', '국내총생산(십억원)', 'KSOPI 종가지수', 'KOSDAQ 종가지수',\n",
            "       '생산자물가지수 증감', '소비자물가지수 증감'],\n",
            "      dtype='object')\n",
            "부채비율_w: 0.0000\n",
            "시장부채비율_w: 0.0000\n",
            "금융부채비율_w: 0.0000\n",
            "금융부채비율2_w: 0.0000\n",
            "유동비율_w: 0.0000\n",
            "고정자산비율_w: 0.0000\n",
            "총자산영업이익률_w: 0.0000\n",
            "시장자산영업이익률_w: 0.0000\n",
            "자기자본순이익률_w: 0.0000\n",
            "총자산이익잉여금비율_w: 0.0000\n",
            "총자산증가율_w: 0.0000\n",
            "매출액증가율_w: 0.0000\n",
            "당기순이익증가율_w: 0.0000\n",
            "현금자산비율_w: 0.0000\n",
            "시장현금자산비율_w: 0.0000\n",
            "자산대비뎡업현금흐름_w: 0.0000\n",
            "자산회전율_w: 0.0000\n",
            "매출채권회전율_w: 0.0000\n",
            "총매출액유모_w: 0.0000\n",
            "총자산규모_w: 0.0000\n",
            "직원수 증감_w: 0.0000\n",
            "직원평균임금 증감_w: 0.0000\n",
            "최대주주지분율_w: 0.0000\n",
            "최대주주지분율 증감_w: 0.0000\n",
            "국고채3년: 0.0000\n",
            "CD유통수익률(91일): 0.0000\n",
            "한국 WON(매매기준율): 0.0000\n",
            "KSOPI 종가지수: 0.0000\n",
            "KOSDAQ 종가지수: 0.0000\n",
            "생산자물가지수 증감: 0.0000\n",
            "소비자물가지수 증감: 0.0000\n",
            "국내총생산(십억원): -0.2311\n",
            "Fold: [4]  F1 Score: 0.068128  Accuracy: 0.202381\n",
            "----------------------------------------------------\n",
            "FOLD 5\n",
            "Reset trainable parameters of layer = Conv1d(1, 16, kernel_size=(1,), stride=(1,))\n",
            "Reset trainable parameters of layer = BatchNorm1d(16, eps=1e-05, momentum=0.1, affine=True, track_running_stats=True)\n",
            "Reset trainable parameters of layer = Linear(in_features=512, out_features=64, bias=True)\n",
            "Reset trainable parameters of layer = BatchNorm1d(64, eps=1e-05, momentum=0.1, affine=True, track_running_stats=True)\n",
            "Reset trainable parameters of layer = Linear(in_features=64, out_features=2, bias=True)\n",
            "Epoch [1], Train Loss : [0.19800]\n",
            "Epoch [2], Train Loss : [0.18070]\n",
            "Epoch [3], Train Loss : [0.17647]\n",
            "Epoch [4], Train Loss : [0.17391]\n",
            "Epoch [5], Train Loss : [0.16514]\n",
            "Epoch [6], Train Loss : [0.16135]\n",
            "Epoch [7], Train Loss : [0.15698]\n",
            "Epoch [8], Train Loss : [0.15158]\n",
            "Epoch [9], Train Loss : [0.13872]\n",
            "Epoch [10], Train Loss : [0.12893]\n",
            "Epoch [11], Train Loss : [0.12730]\n",
            "Epoch [12], Train Loss : [0.12125]\n",
            "Epoch [13], Train Loss : [0.11886]\n",
            "Epoch [14], Train Loss : [0.11685]\n",
            "Epoch [15], Train Loss : [0.11020]\n",
            "Epoch [16], Train Loss : [0.10281]\n",
            "Epoch [17], Train Loss : [0.10328]\n",
            "Epoch [18], Train Loss : [0.09246]\n",
            "Epoch [19], Train Loss : [0.07637]\n",
            "Epoch [20], Train Loss : [0.05089]\n",
            "Average Feature Importances\n",
            "Index(['부채비율_w', '시장부채비율_w', '금융부채비율_w', '금융부채비율2_w', '유동비율_w', '고정자산비율_w',\n",
            "       '총자산영업이익률_w', '시장자산영업이익률_w', '자기자본순이익률_w', '총자산이익잉여금비율_w', '총자산증가율_w',\n",
            "       '매출액증가율_w', '당기순이익증가율_w', '현금자산비율_w', '시장현금자산비율_w', '자산대비뎡업현금흐름_w',\n",
            "       '자산회전율_w', '매출채권회전율_w', '총매출액유모_w', '총자산규모_w', '직원수 증감_w',\n",
            "       '직원평균임금 증감_w', '최대주주지분율_w', '최대주주지분율 증감_w', '국고채3년', 'CD유통수익률(91일)',\n",
            "       '한국 WON(매매기준율)', '국내총생산(십억원)', 'KSOPI 종가지수', 'KOSDAQ 종가지수',\n",
            "       '생산자물가지수 증감', '소비자물가지수 증감'],\n",
            "      dtype='object')\n",
            "부채비율_w: 0.0000\n",
            "시장부채비율_w: 0.0000\n",
            "금융부채비율_w: 0.0000\n",
            "금융부채비율2_w: 0.0000\n",
            "유동비율_w: 0.0000\n",
            "고정자산비율_w: 0.0000\n",
            "총자산영업이익률_w: 0.0000\n",
            "시장자산영업이익률_w: 0.0000\n",
            "자기자본순이익률_w: 0.0000\n",
            "총자산이익잉여금비율_w: 0.0000\n",
            "총자산증가율_w: 0.0000\n",
            "매출액증가율_w: 0.0000\n",
            "당기순이익증가율_w: 0.0000\n",
            "현금자산비율_w: 0.0000\n",
            "시장현금자산비율_w: 0.0000\n",
            "자산대비뎡업현금흐름_w: 0.0000\n",
            "자산회전율_w: 0.0000\n",
            "매출채권회전율_w: 0.0000\n",
            "총매출액유모_w: 0.0000\n",
            "총자산규모_w: 0.0000\n",
            "직원수 증감_w: 0.0000\n",
            "직원평균임금 증감_w: 0.0000\n",
            "최대주주지분율_w: 0.0000\n",
            "최대주주지분율 증감_w: 0.0000\n",
            "국고채3년: 0.0000\n",
            "CD유통수익률(91일): 0.0000\n",
            "한국 WON(매매기준율): 0.0000\n",
            "KSOPI 종가지수: 0.0000\n",
            "KOSDAQ 종가지수: 0.0000\n",
            "생산자물가지수 증감: 0.0000\n",
            "소비자물가지수 증감: 0.0000\n",
            "국내총생산(십억원): -0.9008\n",
            "Fold: [5]  F1 Score: 0.067153  Accuracy: 0.200795\n",
            "----------------------------------------------------\n"
          ]
        },
        {
          "output_type": "display_data",
          "data": {
            "text/plain": [
              "<Figure size 864x432 with 1 Axes>"
            ],
            "image/png": "[encoded data removed]"
          },
          "metadata": {
            "needs_background": "light"
          }
        },
        {
          "output_type": "display_data",
          "data": {
            "text/plain": [
              "<Figure size 864x432 with 1 Axes>"
            ],
            "image/png": "[encoded data removed]"
          },
          "metadata": {
            "needs_background": "light"
          }
        },
        {
          "output_type": "display_data",
          "data": {
            "text/plain": [
              "<Figure size 864x432 with 1 Axes>"
            ],
            "image/png": "[encoded data removed]"
          },
          "metadata": {
            "needs_background": "light"
          }
        },
        {
          "output_type": "display_data",
          "data": {
            "text/plain": [
              "<Figure size 864x432 with 1 Axes>"
            ],
            "image/png": "[encoded data removed]"
          },
          "metadata": {
            "needs_background": "light"
          }
        },
        {
          "output_type": "display_data",
          "data": {
            "text/plain": [
              "<Figure size 864x432 with 1 Axes>"
            ],
            "image/png": "[encoded data removed]"
          },
          "metadata": {
            "needs_background": "light"
          }
        }
      ],
      "source": [
        "# start training\n",
        "confusion_list = []\n",
        "attr_list = []\n",
        "\n",
        "print('----------------------------------------------------')\n",
        "\n",
        "for fold, (train_ids, test_ids) in enumerate(kfold_st.split(fold_dataset, y=input_y)):\n",
        "    print(f'FOLD {fold+1}')\n",
        "    \n",
        "\n",
        "    train_subsampler = torch.utils.data.SubsetRandomSampler(train_ids)\n",
        "    test_subsampler = torch.utils.data.SubsetRandomSampler(test_ids)\n",
        "    test_data = torch.tensor(input_X.iloc[test_ids].values).type(torch.FloatTensor) # captum\n",
        "\n",
        "    trainloader = torch.utils.data.DataLoader(\n",
        "                      fold_dataset, \n",
        "                      batch_size=CFG['BATCH_SIZE'], sampler=train_subsampler)\n",
        "    testloader = torch.utils.data.DataLoader(\n",
        "                      fold_dataset,\n",
        "                      batch_size=CFG['BATCH_SIZE'], sampler=test_subsampler)\n",
        "\n",
        "    model = CustomModel(input_size=input_X.shape[1], years=CFG['YEARS'])\n",
        "    model.apply(reset_weights)\n",
        "\n",
        "    optimizer = torch.optim.Adam(params = model.parameters(), lr=CFG[\"LEARNING_RATE\"])\n",
        "    scheduler = torch.optim.lr_scheduler.CosineAnnealingWarmRestarts(optimizer, T_0=5, T_mult=2, eta_min=1e-4)\n",
        "\n",
        "\n",
        "    infermodel = train_with_fold(model, optimizer, trainloader, scheduler=scheduler, device=device)\n",
        "    predict, test_f1, test_acc, total_attr, cm = inference(infermodel, testloader, device)\n",
        "    confusion_list.append(cm)\n",
        "\n",
        "    visualize_importances(feature_names, np.mean(total_attr, axis=0), fold)\n",
        "\n",
        "\n",
        "    print(f'Fold: [{fold+1}]  F1 Score: {test_f1:.6f}  Accuracy: {test_acc:.6f}')\n",
        "    print('----------------------------------------------------')\n",
        "    results[fold] = (test_f1, test_acc)"
      ]
    },
    {
      "cell_type": "markdown",
      "metadata": {
        "id": "H6xu_GmoJ4yF"
      },
      "source": [
        "### Results of Set 3"
      ]
    },
    {
      "cell_type": "code",
      "execution_count": null,
      "metadata": {
        "colab": {
          "base_uri": "https://localhost:8080/"
        },
        "id": "70TwkJoIJ43H",
        "outputId": "7db1a8ca-b471-429f-d5c0-651622775e00"
      },
      "outputs": [
        {
          "output_type": "stream",
          "name": "stdout",
          "text": [
            "CNN set3 1year using Stratified K-Fold Cross Validation Results For 5 Folds\n",
            "----------------------------------------------------\n",
            "Fold 0: F1 6.6909 %,  Accuracy 20.0397 %\n",
            "Fold 1: F1 98.3881 %,  Accuracy 98.4127 %\n",
            "Fold 2: F1 6.8128 %,  Accuracy 20.2381 %\n",
            "Fold 3: F1 6.8128 %,  Accuracy 20.2381 %\n",
            "Fold 4: F1 6.7153 %,  Accuracy 20.0795 %\n",
            "Average of F1 Score: 25.084008889036514 %,Average of Accuracy: 35.80161885827889 %\n"
          ]
        }
      ],
      "source": [
        "# Print fold results\n",
        "print(f'CNN set3 {CFG[\"YEARS\"]}year using Stratified K-Fold Cross Validation Results For {k_folds} Folds')\n",
        "print('----------------------------------------------------')\n",
        "sum_f1 = 0.0\n",
        "sum_acc = 0.0\n",
        "for key, (f1, acc) in results.items():\n",
        "    print(f'Fold {key}: F1 {f1 * 100:.4f} %,  Accuracy {acc * 100:.4f} %')\n",
        "    sum_f1 += f1\n",
        "    sum_acc += acc\n",
        "print(f'Average of F1 Score: {sum_f1/len(results.items()) * 100} %,', end='')\n",
        "print(f'Average of Accuracy: {sum_acc/len(results.items()) * 100} %')"
      ]
    },
    {
      "cell_type": "code",
      "execution_count": null,
      "metadata": {
        "colab": {
          "base_uri": "https://localhost:8080/",
          "height": 1000
        },
        "id": "eQXDhb5qJ443",
        "outputId": "d18e3911-10b6-4c5c-8070-5f81c88f71b1"
      },
      "outputs": [
        {
          "output_type": "display_data",
          "data": {
            "text/plain": [
              "<Figure size 432x288 with 2 Axes>"
            ],
            "image/png": "[encoded data removed]"
          },
          "metadata": {
            "needs_background": "light"
          }
        },
        {
          "output_type": "display_data",
          "data": {
            "text/plain": [
              "<Figure size 432x288 with 2 Axes>"
            ],
            "image/png": "[encoded data removed]"
          },
          "metadata": {
            "needs_background": "light"
          }
        },
        {
          "output_type": "display_data",
          "data": {
            "text/plain": [
              "<Figure size 432x288 with 2 Axes>"
            ],
            "image/png": "[encoded data removed]"
          },
          "metadata": {
            "needs_background": "light"
          }
        },
        {
          "output_type": "display_data",
          "data": {
            "text/plain": [
              "<Figure size 432x288 with 2 Axes>"
            ],
            "image/png": "[encoded data removed]"
          },
          "metadata": {
            "needs_background": "light"
          }
        },
        {
          "output_type": "display_data",
          "data": {
            "text/plain": [
              "<Figure size 432x288 with 2 Axes>"
            ],
            "image/png": "[encoded data removed]"
          },
          "metadata": {
            "needs_background": "light"
          }
        }
      ],
      "source": [
        "# display normalized confusion-matrix\n",
        "\n",
        "for cm in confusion_list:\n",
        "    cm = cm/np.sum(cm)\n",
        "    ConfusionMatrixDisplay(cm).plot()"
      ]
    },
    {
      "cell_type": "markdown",
      "source": [
        "## Best architecture"
      ],
      "metadata": {
        "id": "TR-3QZm7NVXO"
      }
    },
    {
      "cell_type": "code",
      "execution_count": 13,
      "metadata": {
        "id": "LqiGJ-OULrrF",
        "colab": {
          "base_uri": "https://localhost:8080/"
        },
        "outputId": "f160b653-c6d4-4fe0-a8e7-e9d819bddc53"
      },
      "outputs": [
        {
          "output_type": "stream",
          "name": "stdout",
          "text": [
            "make (2519, 20)\n",
            "['부채비율_w_1', '시장부채비율_w_1', '금융부채비율_w_1', '금융부채비율2_w_1', '유동비율_w_1', '고정자산비율_w_1', '총자산영업이익률_w_1', '시장자산영업이익률_w_1', '자기자본순이익률_w_1', '총자산이익잉여금비율_w_1', '총자산증가율_w_1', '매출액증가율_w_1', '당기순이익증가율_w_1', '현금자산비율_w_1', '시장현금자산비율_w_1', '자산대비뎡업현금흐름_w_1', '자산회전율_w_1', '매출채권회전율_w_1', '총매출액유모_w_1', '총자산규모_w_1']\n",
            "(2519, 20)\n"
          ]
        }
      ],
      "source": [
        "data, input_y = load_data(PATH, CFG['YEARS'], norm=True)\n",
        "input_X = make_set1(data)\n",
        "print(input_X.shape)\n",
        "\n",
        "k_folds = 5\n",
        "\n",
        "# For fold results\n",
        "results = {}\n",
        "\n",
        "kfold_st = StratifiedKFold(n_splits=k_folds, shuffle=True, random_state=CFG['SEED'])\n",
        "\n",
        "fold_dataset = CustomDataset(input_X, input_y, target_transform=torch.nn.functional.one_hot)\n",
        "feature_names = input_X.columns"
      ]
    },
    {
      "cell_type": "code",
      "source": [
        "print(feature_names)\n",
        "# 2,3,4,5,13,14,16,17,18,19\n",
        "# data.drop('금융부채비율')\n",
        "lis = [3, 4, 5, 13, 14, 16, 17, 18, 19]\n",
        "tg = []\n",
        "for i, col in enumerate(feature_names):\n",
        "    print(i)\n",
        "    if int(i) in lis:\n",
        "        print(i, col)\n",
        "        tg.append(col)\n",
        "print(tg)"
      ],
      "metadata": {
        "colab": {
          "base_uri": "https://localhost:8080/"
        },
        "id": "UdFnr3gqU9Dg",
        "outputId": "4885664a-2c5d-4e7c-b4be-f02d8f9d4402"
      },
      "execution_count": 24,
      "outputs": [
        {
          "output_type": "stream",
          "name": "stdout",
          "text": [
            "Index(['부채비율_w_1', '시장부채비율_w_1', '금융부채비율_w_1', '금융부채비율2_w_1', '유동비율_w_1',\n",
            "       '고정자산비율_w_1', '총자산영업이익률_w_1', '시장자산영업이익률_w_1', '자기자본순이익률_w_1',\n",
            "       '총자산이익잉여금비율_w_1', '총자산증가율_w_1', '매출액증가율_w_1', '당기순이익증가율_w_1',\n",
            "       '현금자산비율_w_1', '시장현금자산비율_w_1', '자산대비뎡업현금흐름_w_1', '자산회전율_w_1',\n",
            "       '매출채권회전율_w_1', '총매출액유모_w_1', '총자산규모_w_1'],\n",
            "      dtype='object')\n",
            "0\n",
            "1\n",
            "2\n",
            "3\n",
            "3 금융부채비율2_w_1\n",
            "4\n",
            "4 유동비율_w_1\n",
            "5\n",
            "5 고정자산비율_w_1\n",
            "6\n",
            "7\n",
            "8\n",
            "9\n",
            "10\n",
            "11\n",
            "12\n",
            "13\n",
            "13 현금자산비율_w_1\n",
            "14\n",
            "14 시장현금자산비율_w_1\n",
            "15\n",
            "16\n",
            "16 자산회전율_w_1\n",
            "17\n",
            "17 매출채권회전율_w_1\n",
            "18\n",
            "18 총매출액유모_w_1\n",
            "19\n",
            "19 총자산규모_w_1\n",
            "['금융부채비율2_w_1', '유동비율_w_1', '고정자산비율_w_1', '현금자산비율_w_1', '시장현금자산비율_w_1', '자산회전율_w_1', '매출채권회전율_w_1', '총매출액유모_w_1', '총자산규모_w_1']\n"
          ]
        }
      ]
    },
    {
      "cell_type": "code",
      "source": [
        "# start training\n",
        "confusion_list = []\n",
        "attr_list = []\n",
        "\n",
        "print('----------------------------------------------------')\n",
        "\n",
        "for fold, (train_ids, test_ids) in enumerate(kfold_st.split(fold_dataset, y=input_y)):\n",
        "    print(f'FOLD {fold+1}')\n",
        "    \n",
        "\n",
        "    train_subsampler = torch.utils.data.SubsetRandomSampler(train_ids)\n",
        "    test_subsampler = torch.utils.data.SubsetRandomSampler(test_ids)\n",
        "    # test_data = torch.tensor(input_X.iloc[test_ids].values).type(torch.FloatTensor) # captum # 주석처리 돼도 실행이 된다면 삭제\n",
        "\n",
        "    trainloader = torch.utils.data.DataLoader(\n",
        "                      fold_dataset, \n",
        "                      batch_size=CFG['BATCH_SIZE'], sampler=train_subsampler)\n",
        "    testloader = torch.utils.data.DataLoader(\n",
        "                      fold_dataset,\n",
        "                      batch_size=CFG['BATCH_SIZE'], sampler=test_subsampler)\n",
        "\n",
        "    # model = CustomModel(input_size=input_X.shape[1], years=CFG['YEARS'])\n",
        "    model = BestCNN(input_size=input_X.shape[1])\n",
        "    model.apply(reset_weights)\n",
        "\n",
        "    optimizer = torch.optim.Adam(params = model.parameters(), lr=CFG[\"LEARNING_RATE\"])\n",
        "    scheduler = torch.optim.lr_scheduler.CosineAnnealingWarmRestarts(optimizer, T_0=5, T_mult=2, eta_min=1e-4)\n",
        "\n",
        "\n",
        "    infermodel = train_with_fold(model, optimizer, trainloader, scheduler=scheduler, device=device)\n",
        "    predict, test_f1, test_acc, total_attr, cm = inference(infermodel, testloader, device)\n",
        "    confusion_list.append(cm)\n",
        "\n",
        "    visualize_importances(feature_names, np.mean(total_attr, axis=0), fold)\n",
        "\n",
        "\n",
        "    print(f'Fold: [{fold+1}]  F1 Score: {test_f1:.6f}  Accuracy: {test_acc:.6f}')\n",
        "    print('----------------------------------------------------')\n",
        "    results[fold] = (test_f1, test_acc)"
      ],
      "metadata": {
        "colab": {
          "base_uri": "https://localhost:8080/",
          "height": 1000
        },
        "id": "kOI62G-kPZa-",
        "outputId": "ab06457f-5a62-4ca7-c296-7aff6724f189"
      },
      "execution_count": null,
      "outputs": [
        {
          "output_type": "stream",
          "name": "stdout",
          "text": [
            "----------------------------------------------------\n",
            "FOLD 1\n",
            "Reset trainable parameters of layer = Conv1d(1, 16, kernel_size=(1,), stride=(1,))\n",
            "Reset trainable parameters of layer = BatchNorm1d(16, eps=1e-05, momentum=0.1, affine=True, track_running_stats=True)\n",
            "Reset trainable parameters of layer = Conv1d(16, 32, kernel_size=(1,), stride=(1,))\n",
            "Reset trainable parameters of layer = BatchNorm1d(32, eps=1e-05, momentum=0.1, affine=True, track_running_stats=True)\n",
            "Reset trainable parameters of layer = Linear(in_features=640, out_features=128, bias=True)\n",
            "Reset trainable parameters of layer = BatchNorm1d(128, eps=1e-05, momentum=0.1, affine=True, track_running_stats=True)\n",
            "Reset trainable parameters of layer = Linear(in_features=128, out_features=2, bias=True)\n",
            "Epoch [1], Train Loss : [0.18642]\n",
            "Epoch [2], Train Loss : [0.14176]\n",
            "Epoch [3], Train Loss : [0.13710]\n",
            "Epoch [4], Train Loss : [0.12439]\n",
            "Epoch [5], Train Loss : [0.11025]\n",
            "Epoch [6], Train Loss : [0.11886]\n",
            "Epoch [7], Train Loss : [0.12043]\n",
            "Epoch [8], Train Loss : [0.10738]\n",
            "Epoch [9], Train Loss : [0.10153]\n",
            "Epoch [10], Train Loss : [0.10728]\n",
            "Epoch [11], Train Loss : [0.09726]\n",
            "Epoch [12], Train Loss : [0.09377]\n",
            "Epoch [13], Train Loss : [0.09660]\n",
            "Epoch [14], Train Loss : [0.09808]\n",
            "Epoch [15], Train Loss : [0.09148]\n",
            "Epoch [16], Train Loss : [0.09639]\n",
            "Epoch [17], Train Loss : [0.10248]\n",
            "Epoch [18], Train Loss : [0.09648]\n",
            "Epoch [19], Train Loss : [0.09762]\n",
            "Epoch [20], Train Loss : [0.09602]\n",
            "Average Feature Importances\n",
            "Index(['부채비율_w_1', '시장부채비율_w_1', '금융부채비율_w_1', '금융부채비율2_w_1', '유동비율_w_1',\n",
            "       '고정자산비율_w_1', '총자산영업이익률_w_1', '시장자산영업이익률_w_1', '자기자본순이익률_w_1',\n",
            "       '총자산이익잉여금비율_w_1', '총자산증가율_w_1', '매출액증가율_w_1', '당기순이익증가율_w_1',\n",
            "       '현금자산비율_w_1', '시장현금자산비율_w_1', '자산대비뎡업현금흐름_w_1', '자산회전율_w_1',\n",
            "       '매출채권회전율_w_1', '총매출액유모_w_1', '총자산규모_w_1'],\n",
            "      dtype='object')\n",
            "시장부채비율_w_1: 0.1996\n",
            "자기자본순이익률_w_1: 0.1235\n",
            "부채비율_w_1: 0.0786\n",
            "당기순이익증가율_w_1: 0.0599\n",
            "총자산이익잉여금비율_w_1: 0.0482\n",
            "시장자산영업이익률_w_1: 0.0332\n",
            "자산대비뎡업현금흐름_w_1: 0.0076\n",
            "매출액증가율_w_1: 0.0066\n",
            "총자산영업이익률_w_1: -0.0026\n",
            "고정자산비율_w_1: -0.0036\n",
            "금융부채비율_w_1: -0.0101\n",
            "총자산증가율_w_1: -0.0140\n",
            "총매출액유모_w_1: -0.0287\n",
            "시장현금자산비율_w_1: -0.0325\n",
            "금융부채비율2_w_1: -0.0547\n",
            "현금자산비율_w_1: -0.0783\n",
            "자산회전율_w_1: -0.1055\n",
            "총자산규모_w_1: -0.1290\n",
            "매출채권회전율_w_1: -0.1494\n",
            "유동비율_w_1: -0.1519\n",
            "Fold: [1]  F1 Score: 0.910859  Accuracy: 0.906746\n",
            "----------------------------------------------------\n",
            "FOLD 2\n",
            "Reset trainable parameters of layer = Conv1d(1, 16, kernel_size=(1,), stride=(1,))\n",
            "Reset trainable parameters of layer = BatchNorm1d(16, eps=1e-05, momentum=0.1, affine=True, track_running_stats=True)\n",
            "Reset trainable parameters of layer = Conv1d(16, 32, kernel_size=(1,), stride=(1,))\n",
            "Reset trainable parameters of layer = BatchNorm1d(32, eps=1e-05, momentum=0.1, affine=True, track_running_stats=True)\n",
            "Reset trainable parameters of layer = Linear(in_features=640, out_features=128, bias=True)\n",
            "Reset trainable parameters of layer = BatchNorm1d(128, eps=1e-05, momentum=0.1, affine=True, track_running_stats=True)\n",
            "Reset trainable parameters of layer = Linear(in_features=128, out_features=2, bias=True)\n",
            "Epoch [1], Train Loss : [0.18452]\n",
            "Epoch [2], Train Loss : [0.15328]\n",
            "Epoch [3], Train Loss : [0.14082]\n",
            "Epoch [4], Train Loss : [0.13364]\n",
            "Epoch [5], Train Loss : [0.12385]\n",
            "Epoch [6], Train Loss : [0.11846]\n",
            "Epoch [7], Train Loss : [0.11580]\n",
            "Epoch [8], Train Loss : [0.11049]\n",
            "Epoch [9], Train Loss : [0.10529]\n",
            "Epoch [10], Train Loss : [0.10575]\n",
            "Epoch [11], Train Loss : [0.10106]\n",
            "Epoch [12], Train Loss : [0.09553]\n",
            "Epoch [13], Train Loss : [0.10067]\n",
            "Epoch [14], Train Loss : [0.09429]\n",
            "Epoch [15], Train Loss : [0.09796]\n",
            "Epoch [16], Train Loss : [0.10306]\n",
            "Epoch [17], Train Loss : [0.10876]\n",
            "Epoch [18], Train Loss : [0.10523]\n",
            "Epoch [19], Train Loss : [0.09912]\n",
            "Epoch [20], Train Loss : [0.09843]\n",
            "Average Feature Importances\n",
            "Index(['부채비율_w_1', '시장부채비율_w_1', '금융부채비율_w_1', '금융부채비율2_w_1', '유동비율_w_1',\n",
            "       '고정자산비율_w_1', '총자산영업이익률_w_1', '시장자산영업이익률_w_1', '자기자본순이익률_w_1',\n",
            "       '총자산이익잉여금비율_w_1', '총자산증가율_w_1', '매출액증가율_w_1', '당기순이익증가율_w_1',\n",
            "       '현금자산비율_w_1', '시장현금자산비율_w_1', '자산대비뎡업현금흐름_w_1', '자산회전율_w_1',\n",
            "       '매출채권회전율_w_1', '총매출액유모_w_1', '총자산규모_w_1'],\n",
            "      dtype='object')\n",
            "시장부채비율_w_1: 0.2290\n",
            "자기자본순이익률_w_1: 0.1372\n",
            "부채비율_w_1: 0.0800\n",
            "시장자산영업이익률_w_1: 0.0343\n",
            "당기순이익증가율_w_1: 0.0271\n",
            "총매출액유모_w_1: 0.0176\n",
            "매출액증가율_w_1: 0.0077\n",
            "총자산증가율_w_1: 0.0017\n",
            "총자산이익잉여금비율_w_1: -0.0014\n",
            "자산대비뎡업현금흐름_w_1: -0.0024\n",
            "총자산영업이익률_w_1: -0.0039\n",
            "시장현금자산비율_w_1: -0.0058\n",
            "총자산규모_w_1: -0.0064\n",
            "금융부채비율_w_1: -0.0115\n",
            "고정자산비율_w_1: -0.0346\n",
            "금융부채비율2_w_1: -0.0499\n",
            "자산회전율_w_1: -0.0537\n",
            "현금자산비율_w_1: -0.0581\n",
            "유동비율_w_1: -0.1324\n",
            "매출채권회전율_w_1: -0.1954\n",
            "Fold: [2]  F1 Score: 0.919984  Accuracy: 0.916667\n",
            "----------------------------------------------------\n",
            "FOLD 3\n",
            "Reset trainable parameters of layer = Conv1d(1, 16, kernel_size=(1,), stride=(1,))\n",
            "Reset trainable parameters of layer = BatchNorm1d(16, eps=1e-05, momentum=0.1, affine=True, track_running_stats=True)\n",
            "Reset trainable parameters of layer = Conv1d(16, 32, kernel_size=(1,), stride=(1,))\n",
            "Reset trainable parameters of layer = BatchNorm1d(32, eps=1e-05, momentum=0.1, affine=True, track_running_stats=True)\n",
            "Reset trainable parameters of layer = Linear(in_features=640, out_features=128, bias=True)\n",
            "Reset trainable parameters of layer = BatchNorm1d(128, eps=1e-05, momentum=0.1, affine=True, track_running_stats=True)\n",
            "Reset trainable parameters of layer = Linear(in_features=128, out_features=2, bias=True)\n",
            "Epoch [1], Train Loss : [0.18527]\n",
            "Epoch [2], Train Loss : [0.15356]\n",
            "Epoch [3], Train Loss : [0.14297]\n",
            "Epoch [4], Train Loss : [0.13340]\n",
            "Epoch [5], Train Loss : [0.12966]\n",
            "Epoch [6], Train Loss : [0.11921]\n",
            "Epoch [7], Train Loss : [0.11378]\n",
            "Epoch [8], Train Loss : [0.11765]\n",
            "Epoch [9], Train Loss : [0.10819]\n",
            "Epoch [10], Train Loss : [0.10408]\n",
            "Epoch [11], Train Loss : [0.10403]\n",
            "Epoch [12], Train Loss : [0.10148]\n",
            "Epoch [13], Train Loss : [0.10090]\n",
            "Epoch [14], Train Loss : [0.10057]\n",
            "Epoch [15], Train Loss : [0.09575]\n",
            "Epoch [16], Train Loss : [0.10193]\n",
            "Epoch [17], Train Loss : [0.09586]\n",
            "Epoch [18], Train Loss : [0.10319]\n",
            "Epoch [19], Train Loss : [0.09947]\n",
            "Epoch [20], Train Loss : [0.09573]\n",
            "Average Feature Importances\n",
            "Index(['부채비율_w_1', '시장부채비율_w_1', '금융부채비율_w_1', '금융부채비율2_w_1', '유동비율_w_1',\n",
            "       '고정자산비율_w_1', '총자산영업이익률_w_1', '시장자산영업이익률_w_1', '자기자본순이익률_w_1',\n",
            "       '총자산이익잉여금비율_w_1', '총자산증가율_w_1', '매출액증가율_w_1', '당기순이익증가율_w_1',\n",
            "       '현금자산비율_w_1', '시장현금자산비율_w_1', '자산대비뎡업현금흐름_w_1', '자산회전율_w_1',\n",
            "       '매출채권회전율_w_1', '총매출액유모_w_1', '총자산규모_w_1'],\n",
            "      dtype='object')\n",
            "자기자본순이익률_w_1: 0.1735\n",
            "시장부채비율_w_1: 0.1562\n",
            "부채비율_w_1: 0.1022\n",
            "총자산이익잉여금비율_w_1: 0.0796\n",
            "총매출액유모_w_1: 0.0508\n",
            "매출액증가율_w_1: 0.0315\n",
            "당기순이익증가율_w_1: 0.0247\n",
            "시장자산영업이익률_w_1: 0.0233\n",
            "총자산증가율_w_1: 0.0180\n",
            "자산대비뎡업현금흐름_w_1: 0.0085\n",
            "총자산영업이익률_w_1: 0.0001\n",
            "시장현금자산비율_w_1: -0.0027\n",
            "금융부채비율_w_1: -0.0056\n",
            "고정자산비율_w_1: -0.0127\n",
            "금융부채비율2_w_1: -0.0157\n",
            "총자산규모_w_1: -0.0177\n",
            "현금자산비율_w_1: -0.0236\n",
            "자산회전율_w_1: -0.0610\n",
            "유동비율_w_1: -0.1457\n",
            "매출채권회전율_w_1: -0.3679\n",
            "Fold: [3]  F1 Score: 0.939829  Accuracy: 0.938492\n",
            "----------------------------------------------------\n",
            "FOLD 4\n",
            "Reset trainable parameters of layer = Conv1d(1, 16, kernel_size=(1,), stride=(1,))\n",
            "Reset trainable parameters of layer = BatchNorm1d(16, eps=1e-05, momentum=0.1, affine=True, track_running_stats=True)\n",
            "Reset trainable parameters of layer = Conv1d(16, 32, kernel_size=(1,), stride=(1,))\n",
            "Reset trainable parameters of layer = BatchNorm1d(32, eps=1e-05, momentum=0.1, affine=True, track_running_stats=True)\n",
            "Reset trainable parameters of layer = Linear(in_features=640, out_features=128, bias=True)\n",
            "Reset trainable parameters of layer = BatchNorm1d(128, eps=1e-05, momentum=0.1, affine=True, track_running_stats=True)\n",
            "Reset trainable parameters of layer = Linear(in_features=128, out_features=2, bias=True)\n",
            "Epoch [1], Train Loss : [0.18722]\n",
            "Epoch [2], Train Loss : [0.14806]\n",
            "Epoch [3], Train Loss : [0.13385]\n",
            "Epoch [4], Train Loss : [0.12644]\n",
            "Epoch [5], Train Loss : [0.11768]\n",
            "Epoch [6], Train Loss : [0.11791]\n",
            "Epoch [7], Train Loss : [0.11456]\n",
            "Epoch [8], Train Loss : [0.12049]\n",
            "Epoch [9], Train Loss : [0.10921]\n",
            "Epoch [10], Train Loss : [0.09677]\n",
            "Epoch [11], Train Loss : [0.09381]\n",
            "Epoch [12], Train Loss : [0.10188]\n",
            "Epoch [13], Train Loss : [0.09221]\n",
            "Epoch [14], Train Loss : [0.09352]\n",
            "Epoch [15], Train Loss : [0.09424]\n",
            "Epoch [16], Train Loss : [0.09624]\n",
            "Epoch [17], Train Loss : [0.09645]\n",
            "Epoch [18], Train Loss : [0.09702]\n",
            "Epoch [19], Train Loss : [0.10036]\n",
            "Epoch [20], Train Loss : [0.09014]\n",
            "Average Feature Importances\n",
            "Index(['부채비율_w_1', '시장부채비율_w_1', '금융부채비율_w_1', '금융부채비율2_w_1', '유동비율_w_1',\n",
            "       '고정자산비율_w_1', '총자산영업이익률_w_1', '시장자산영업이익률_w_1', '자기자본순이익률_w_1',\n",
            "       '총자산이익잉여금비율_w_1', '총자산증가율_w_1', '매출액증가율_w_1', '당기순이익증가율_w_1',\n",
            "       '현금자산비율_w_1', '시장현금자산비율_w_1', '자산대비뎡업현금흐름_w_1', '자산회전율_w_1',\n",
            "       '매출채권회전율_w_1', '총매출액유모_w_1', '총자산규모_w_1'],\n",
            "      dtype='object')\n",
            "시장부채비율_w_1: 0.2652\n",
            "자기자본순이익률_w_1: 0.1324\n",
            "부채비율_w_1: 0.1091\n",
            "당기순이익증가율_w_1: 0.0526\n",
            "시장자산영업이익률_w_1: 0.0331\n",
            "총자산증가율_w_1: 0.0103\n",
            "매출액증가율_w_1: 0.0023\n",
            "자산대비뎡업현금흐름_w_1: 0.0013\n",
            "시장현금자산비율_w_1: 0.0007\n",
            "총자산영업이익률_w_1: -0.0048\n",
            "총자산이익잉여금비율_w_1: -0.0066\n",
            "금융부채비율_w_1: -0.0101\n",
            "금융부채비율2_w_1: -0.0511\n",
            "현금자산비율_w_1: -0.0596\n",
            "총자산규모_w_1: -0.0737\n",
            "총매출액유모_w_1: -0.0864\n",
            "고정자산비율_w_1: -0.0972\n",
            "자산회전율_w_1: -0.1640\n",
            "유동비율_w_1: -0.2076\n",
            "매출채권회전율_w_1: -0.2773\n",
            "Fold: [4]  F1 Score: 0.932289  Accuracy: 0.932540\n",
            "----------------------------------------------------\n",
            "FOLD 5\n",
            "Reset trainable parameters of layer = Conv1d(1, 16, kernel_size=(1,), stride=(1,))\n",
            "Reset trainable parameters of layer = BatchNorm1d(16, eps=1e-05, momentum=0.1, affine=True, track_running_stats=True)\n",
            "Reset trainable parameters of layer = Conv1d(16, 32, kernel_size=(1,), stride=(1,))\n",
            "Reset trainable parameters of layer = BatchNorm1d(32, eps=1e-05, momentum=0.1, affine=True, track_running_stats=True)\n",
            "Reset trainable parameters of layer = Linear(in_features=640, out_features=128, bias=True)\n",
            "Reset trainable parameters of layer = BatchNorm1d(128, eps=1e-05, momentum=0.1, affine=True, track_running_stats=True)\n",
            "Reset trainable parameters of layer = Linear(in_features=128, out_features=2, bias=True)\n",
            "Epoch [1], Train Loss : [0.19699]\n",
            "Epoch [2], Train Loss : [0.15232]\n",
            "Epoch [3], Train Loss : [0.14266]\n",
            "Epoch [4], Train Loss : [0.14010]\n",
            "Epoch [5], Train Loss : [0.11941]\n",
            "Epoch [6], Train Loss : [0.12918]\n",
            "Epoch [7], Train Loss : [0.12006]\n",
            "Epoch [8], Train Loss : [0.10888]\n",
            "Epoch [9], Train Loss : [0.10309]\n",
            "Epoch [10], Train Loss : [0.09672]\n",
            "Epoch [11], Train Loss : [0.09899]\n",
            "Epoch [12], Train Loss : [0.09126]\n",
            "Epoch [13], Train Loss : [0.09864]\n",
            "Epoch [14], Train Loss : [0.09559]\n",
            "Epoch [15], Train Loss : [0.09891]\n",
            "Epoch [16], Train Loss : [0.09554]\n",
            "Epoch [17], Train Loss : [0.09554]\n",
            "Epoch [18], Train Loss : [0.09545]\n",
            "Epoch [19], Train Loss : [0.08690]\n",
            "Epoch [20], Train Loss : [0.08656]\n",
            "Average Feature Importances\n",
            "Index(['부채비율_w_1', '시장부채비율_w_1', '금융부채비율_w_1', '금융부채비율2_w_1', '유동비율_w_1',\n",
            "       '고정자산비율_w_1', '총자산영업이익률_w_1', '시장자산영업이익률_w_1', '자기자본순이익률_w_1',\n",
            "       '총자산이익잉여금비율_w_1', '총자산증가율_w_1', '매출액증가율_w_1', '당기순이익증가율_w_1',\n",
            "       '현금자산비율_w_1', '시장현금자산비율_w_1', '자산대비뎡업현금흐름_w_1', '자산회전율_w_1',\n",
            "       '매출채권회전율_w_1', '총매출액유모_w_1', '총자산규모_w_1'],\n",
            "      dtype='object')\n",
            "시장부채비율_w_1: 0.2482\n",
            "부채비율_w_1: 0.1523\n",
            "자기자본순이익률_w_1: 0.1328\n",
            "당기순이익증가율_w_1: 0.0336\n",
            "시장자산영업이익률_w_1: 0.0280\n",
            "총자산규모_w_1: 0.0224\n",
            "매출액증가율_w_1: 0.0205\n",
            "자산대비뎡업현금흐름_w_1: 0.0051\n",
            "고정자산비율_w_1: -0.0003\n",
            "총자산증가율_w_1: -0.0022\n",
            "총자산영업이익률_w_1: -0.0038\n",
            "금융부채비율_w_1: -0.0061\n",
            "시장현금자산비율_w_1: -0.0131\n",
            "총자산이익잉여금비율_w_1: -0.0139\n",
            "금융부채비율2_w_1: -0.0304\n",
            "현금자산비율_w_1: -0.0508\n",
            "자산회전율_w_1: -0.1189\n",
            "유동비율_w_1: -0.1414\n",
            "총매출액유모_w_1: -0.1704\n",
            "매출채권회전율_w_1: -0.3326\n",
            "Fold: [5]  F1 Score: 0.919197  Accuracy: 0.916501\n",
            "----------------------------------------------------\n"
          ]
        },
        {
          "output_type": "display_data",
          "data": {
            "text/plain": [
              "<Figure size 864x432 with 1 Axes>"
            ],
            "image/png": "[encoded data removed]"
          },
          "metadata": {
            "needs_background": "light"
          }
        },
        {
          "output_type": "display_data",
          "data": {
            "text/plain": [
              "<Figure size 864x432 with 1 Axes>"
            ],
            "image/png": "[encoded data removed]"
          },
          "metadata": {
            "needs_background": "light"
          }
        },
        {
          "output_type": "display_data",
          "data": {
            "text/plain": [
              "<Figure size 864x432 with 1 Axes>"
            ],
            "image/png": "[encoded data removed]"
          },
          "metadata": {
            "needs_background": "light"
          }
        },
        {
          "output_type": "display_data",
          "data": {
            "text/plain": [
              "<Figure size 864x432 with 1 Axes>"
            ],
            "image/png": "[encoded data removed]"
          },
          "metadata": {
            "needs_background": "light"
          }
        },
        {
          "output_type": "display_data",
          "data": {
            "text/plain": [
              "<Figure size 864x432 with 1 Axes>"
            ],
            "image/png": "[encoded data removed]"
          },
          "metadata": {
            "needs_background": "light"
          }
        }
      ]
    },
    {
      "cell_type": "code",
      "source": [
        "# Print fold results\n",
        "print(f'CNN set3 {CFG[\"YEARS\"]}year using Stratified K-Fold Cross Validation Results For {k_folds} Folds')\n",
        "print('----------------------------------------------------')\n",
        "sum_f1 = 0.0\n",
        "sum_acc = 0.0\n",
        "for key, (f1, acc) in results.items():\n",
        "    print(f'Fold {key}: F1 {f1 * 100:.4f} %,  Accuracy {acc * 100:.4f} %')\n",
        "    sum_f1 += f1\n",
        "    sum_acc += acc\n",
        "print(f'Average of F1 Score: {sum_f1/len(results.items()) * 100} %,', end='')\n",
        "print(f'Average of Accuracy: {sum_acc/len(results.items()) * 100} %')"
      ],
      "metadata": {
        "colab": {
          "base_uri": "https://localhost:8080/"
        },
        "id": "TnfRsqzRPrlv",
        "outputId": "5e538557-75a4-4f87-dd9f-56ddd32a8fa1"
      },
      "execution_count": null,
      "outputs": [
        {
          "output_type": "stream",
          "name": "stdout",
          "text": [
            "CNN set3 1year using Stratified K-Fold Cross Validation Results For 5 Folds\n",
            "----------------------------------------------------\n",
            "Fold 0: F1 91.0859 %,  Accuracy 90.6746 %\n",
            "Fold 1: F1 91.9984 %,  Accuracy 91.6667 %\n",
            "Fold 2: F1 93.9829 %,  Accuracy 93.8492 %\n",
            "Fold 3: F1 93.2289 %,  Accuracy 93.2540 %\n",
            "Fold 4: F1 91.9197 %,  Accuracy 91.6501 %\n",
            "Average of F1 Score: 92.44318693628686 %,Average of Accuracy: 92.2189087696046 %\n"
          ]
        }
      ]
    },
    {
      "cell_type": "code",
      "source": [
        "# display normalized confusion-matrix\n",
        "\n",
        "for cm in confusion_list:\n",
        "    cm = cm/np.sum(cm)\n",
        "    ConfusionMatrixDisplay(cm).plot()"
      ],
      "metadata": {
        "colab": {
          "base_uri": "https://localhost:8080/",
          "height": 1000
        },
        "id": "ywNo5n7JP0g0",
        "outputId": "14add9e0-40ed-44ab-aef5-5d51e2d4f30d"
      },
      "execution_count": null,
      "outputs": [
        {
          "output_type": "display_data",
          "data": {
            "text/plain": [
              "<Figure size 432x288 with 2 Axes>"
            ],
            "image/png": "[encoded data removed]"
          },
          "metadata": {
            "needs_background": "light"
          }
        },
        {
          "output_type": "display_data",
          "data": {
            "text/plain": [
              "<Figure size 432x288 with 2 Axes>"
            ],
            "image/png": "[encoded data removed]"
          },
          "metadata": {
            "needs_background": "light"
          }
        },
        {
          "output_type": "display_data",
          "data": {
            "text/plain": [
              "<Figure size 432x288 with 2 Axes>"
            ],
            "image/png": "[encoded data removed]"
          },
          "metadata": {
            "needs_background": "light"
          }
        },
        {
          "output_type": "display_data",
          "data": {
            "text/plain": [
              "<Figure size 432x288 with 2 Axes>"
            ],
            "image/png": "[encoded data removed]"
          },
          "metadata": {
            "needs_background": "light"
          }
        },
        {
          "output_type": "display_data",
          "data": {
            "text/plain": [
              "<Figure size 432x288 with 2 Axes>"
            ],
            "image/png": "[encoded data removed]"
          },
          "metadata": {
            "needs_background": "light"
          }
        }
      ]
    },
    {
      "cell_type": "code",
      "source": [
        "# 2,3,4,5,13,14,16,17,18,19"
      ],
      "metadata": {
        "id": "QSJAZdYKP2nv"
      },
      "execution_count": null,
      "outputs": []
    }
  ],
  "metadata": {
    "colab": {
      "provenance": [],
      "toc_visible": true,
      "mount_file_id": "1aM-PHKtt5ffnumlFidkTrCRIMMwsCOp4",
      "authorship_tag": "ABX9TyM9QeRZD6mf1B1INBd2yY5O",
      "include_colab_link": true
    },
    "gpuClass": "standard",
    "kernelspec": {
      "display_name": "Python 3",
      "name": "python3"
    },
    "language_info": {
      "name": "python"
    }
  },
  "nbformat": 4,
  "nbformat_minor": 0
}